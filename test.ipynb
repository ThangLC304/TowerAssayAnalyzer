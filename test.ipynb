{
 "cells": [
  {
   "cell_type": "markdown",
   "metadata": {},
   "source": [
    "# Rearranger"
   ]
  },
  {
   "cell_type": "code",
   "execution_count": null,
   "metadata": {},
   "outputs": [],
   "source": [
    "import pandas as pd\n",
    "import os\n",
    "import cv2\n",
    "import numpy as np\n",
    "import matplotlib.pyplot as plt\n",
    "import math\n",
    "import tkinter as tk\n",
    "from tkinter import filedialog\n",
    "from pathlib import Path\n",
    "from functools import partial, wraps"
   ]
  },
  {
   "cell_type": "code",
   "execution_count": null,
   "metadata": {},
   "outputs": [],
   "source": [
    "root = tk.Tk()\n",
    "root.withdraw()\n",
    "\n",
    "# Open dialog to choose the .txt file\n",
    "file_type = [('Text File', '*.txt')]\n",
    "default_dir = 'Input'\n",
    "file_path = filedialog.askopenfilename(filetypes=file_type, initialdir=default_dir)\n",
    "\n",
    "# Read the .txt file into a dataframe\n",
    "raw_df = pd.read_csv(file_path, sep = \"\\t\")\n",
    "\n",
    "raw_df.head()\n"
   ]
  },
  {
   "cell_type": "code",
   "execution_count": null,
   "metadata": {},
   "outputs": [],
   "source": [
    "# Remove unnecessary columns\n",
    "for col in raw_df.columns:\n",
    "    if \"unnamed\" in col.lower() or \"prob\" in col.lower():\n",
    "        raw_df.drop(col, axis=1, inplace=True)\n",
    "\n",
    "raw_df"
   ]
  },
  {
   "cell_type": "code",
   "execution_count": null,
   "metadata": {},
   "outputs": [],
   "source": [
    "# Extract the first frame of the video to get a sample image\n",
    "\n",
    "# Open dialog to choose the .mp4 file\n",
    "file_type = [('Video File', '*.mp4')]\n",
    "default_dir = 'Input'\n",
    "file_path = filedialog.askopenfilename(filetypes=file_type, initialdir=default_dir)\n",
    "video_P = Path(file_path)\n",
    "\n",
    "cap = cv2.VideoCapture(file_path)\n",
    "_, frame = cap.read()\n",
    "cap.release()\n",
    "\n",
    "# Export frame as a .png file\n",
    "image_P = video_P.parent / (video_P.stem + \".png\")\n",
    "cv2.imwrite(str(image_P), frame)\n"
   ]
  },
  {
   "cell_type": "code",
   "execution_count": null,
   "metadata": {},
   "outputs": [],
   "source": [
    "def get_tanks(im):\n",
    "    example_tanks = {}\n",
    "\n",
    "    tank_names = ['Top Left', 'Top Right', 'Bottom Left']\n",
    "\n",
    "    def tank_selector(im, tank_name):\n",
    "        while True:\n",
    "            selected_pixel = cv2.selectROI('Selecting tank at position'+str(tank_name), im)\n",
    "            \n",
    "            # print out the coordinates of top left and bottom right pixel of the ROI\n",
    "            print('Tank at position: ', tank_name)\n",
    "            print('Top left pixel: x = {}, y = {}'.format(selected_pixel[0], selected_pixel[1]))\n",
    "            print('Bottom right pixel: x = {}, y = {}'.format(selected_pixel[0] + selected_pixel[2], selected_pixel[1] + selected_pixel[3]))\n",
    "            print('Middle line: y = {}'.format(selected_pixel[1] + selected_pixel[3] / 2))\n",
    "            tank_d = math.ceil((selected_pixel[2] + selected_pixel[3]) / 2)\n",
    "            print('Diameter of the tank : ', tank_d)\n",
    "            print()\n",
    "            example_tanks[tank_name] = selected_pixel\n",
    "            cv2.destroyAllWindows()\n",
    "            break\n",
    "\n",
    "    for name in tank_names:\n",
    "        tank_selector(im, name)\n",
    "\n",
    "    return example_tanks"
   ]
  },
  {
   "cell_type": "code",
   "execution_count": null,
   "metadata": {},
   "outputs": [],
   "source": [
    "image_P = Path(r\"C:\\Code\\ChungyuanProjects\\TowerAssayAnalyzer\\Input\\Zebrafish Tower\\A - Novel Tank Test\\01 - Control (1st Batch).png\")\n"
   ]
  },
  {
   "cell_type": "code",
   "execution_count": null,
   "metadata": {},
   "outputs": [],
   "source": [
    "\n",
    "im = cv2.imread(str(image_P))\n",
    "example_wells = get_tanks(im)"
   ]
  },
  {
   "cell_type": "code",
   "execution_count": null,
   "metadata": {},
   "outputs": [],
   "source": [
    "tanks_col = 5\n",
    "tanks_row = 2\n",
    "\n",
    "# tanks number\n",
    "# 10 9 8 7 6\n",
    "# 5 4 3 2 1\n",
    "\n",
    "tanks_dict = {}\n",
    "\n",
    "TL_num = tanks_col * tanks_row\n",
    "TR_num = TL_num - tanks_col + 1\n",
    "BL_num = tanks_col\n",
    "\n",
    "tanks_dict[TL_num] = example_wells['Top Left']\n",
    "tanks_dict[TR_num] = example_wells['Top Right']\n",
    "tanks_dict[BL_num] = example_wells['Bottom Left']\n",
    "tanks_dict[1] = (tanks_dict[6][0] - (tanks_dict[10][0] - tanks_dict[5][0]), tanks_dict[6][1] - (tanks_dict[10][1] - tanks_dict[5][1]), tanks_dict[6][2]*(tanks_dict[5][2]/tanks_dict[10][2]), tanks_dict[6][3]*(tanks_dict[5][3]/tanks_dict[10][3]))\n",
    "\n",
    "def fill_row(tanks_dict, start, end, display = True):\n",
    "    x_sep = (tanks_dict[start][0] - tanks_dict[end][0])/(end - start)\n",
    "    y_sep = (tanks_dict[start][1] - tanks_dict[end][1])/(end - start)\n",
    "    w_sep = (tanks_dict[start][2] - tanks_dict[end][2])/(end - start)\n",
    "    h_sep = (tanks_dict[start][3] - tanks_dict[end][3])/(end - start)\n",
    "\n",
    "    for i in range(start+1, end):\n",
    "        tanks_dict[i] = (tanks_dict[end][0] + x_sep*(end-i), tanks_dict[end][1] + y_sep*(end-i), tanks_dict[end][2] + w_sep*(end-i), tanks_dict[end][3] + h_sep*(end-i))\n",
    "    \n",
    "    if display:\n",
    "        for key, value in locals().items():\n",
    "            print(key + ' = ' + str(value))\n",
    "\n",
    "    return tanks_dict\n",
    "\n",
    "for row in range(0, tanks_row):\n",
    "    tanks_dict = fill_row(tanks_dict, 1 + row*tanks_col, (row+1)*tanks_col)\n",
    "    # row = 0, fill(tanks_dict, 1 + 0*5,  (0+1)*5)\n",
    "    # row = 1, fill(tanks_dict, 1 + 1*5,  (1+1)*5)\n",
    "\n",
    "# tanks_dict = fill_row(tanks_dict, 1, 5)\n",
    "# tanks_dict = fill_row(tanks_dict, 6, 10)\n",
    "\n",
    "# round up all the values in tanks_dict to integers\n",
    "for key in tanks_dict:\n",
    "    tanks_dict[key] = tuple([int(round(i)) for i in tanks_dict[key]])\n",
    "\n",
    "tanks_dict\n"
   ]
  },
  {
   "cell_type": "code",
   "execution_count": null,
   "metadata": {},
   "outputs": [],
   "source": [
    "im = cv2.imread(str(image_P))\n",
    "\n",
    "# Display predicted tanks\n",
    "def display_tanks():\n",
    "    for i in range(1, 11):\n",
    "        x, y, w, h = tanks_dict[i]\n",
    "        cv2.rectangle(im, (x, y), (x + w, y + h), (0, 255, 0), 2)\n",
    "        cv2.putText(im, str(i), (x, y), cv2.FONT_HERSHEY_SIMPLEX, 1, (0, 255, 0), 2, cv2.LINE_AA)\n",
    "    cv2.imshow('Tanks', im)\n",
    "    cv2.waitKey(0)\n",
    "    cv2.destroyAllWindows()\n",
    "\n",
    "display_tanks()\n"
   ]
  },
  {
   "cell_type": "code",
   "execution_count": null,
   "metadata": {},
   "outputs": [],
   "source": [
    "import random\n",
    "from Libs.misc import display_coords\n",
    "\n",
    "def coord_generator(box, points = 1000):\n",
    "    x, y, w, h = box\n",
    "    coords = []\n",
    "    for i in range(points):\n",
    "        x_coord = random.randint(x, x+w)\n",
    "        y_coord = random.randint(y, y+h)\n",
    "        coords.append((x_coord, y_coord))\n",
    "    return coords\n",
    "\n",
    "def mix_up(input_dict, mix_ratio = 0.3):\n",
    "    # input_dict has 10 keys \n",
    "    # keys are 1, 2, 3, 4, 5, 6, 7, 8, 9, 10\n",
    "    # values are coordinates inside the tanks\n",
    "    # mix_ratio is the ratio of mixing up the coordinates\n",
    "    # mix_ratio = 0.3 means 30% of the coordinates will be mixed up\n",
    "\n",
    "    for i in range(1, len(input_dict)+1):\n",
    "        if i == 1:\n",
    "            continue\n",
    "        else:\n",
    "            for j in range(1, len(input_dict[i])+1):\n",
    "                if random.random() < mix_ratio:\n",
    "                    # swap the coordinates\n",
    "                    input_dict[i][j-1], input_dict[i-1][j-1] = input_dict[i-1][j-1], input_dict[i][j-1]\n",
    "    return input_dict\n",
    "                    \n",
    "def mix_up_df(input_df, mix_ratio = 0.3):\n",
    "\n",
    "    for i in range(1, len(input_df.columns)+1, 2):\n",
    "        if i == 1:\n",
    "            continue\n",
    "        else:\n",
    "            for j in range(1, len(input_df)+1):\n",
    "                if random.random() < mix_ratio:\n",
    "                    # swap the coordinates\n",
    "                    input_df.iloc[j-1, i-1], input_df.iloc[j-1, i-2] = input_df.iloc[j-1, i-2], input_df.iloc[j-1, i-1]\n",
    "\n",
    "    return input_df\n",
    "\n",
    "test_dict = {}\n",
    "for i in range(1, 11):\n",
    "    test_dict[i] = coord_generator(tanks_dict[i])\n",
    "\n",
    "\n",
    "columns = []\n",
    "for i in range (1, 11):\n",
    "    columns.append('x' + str(i))\n",
    "    columns.append('y' + str(i))\n",
    "\n",
    "test_df = pd.DataFrame(columns = columns)\n",
    "for i in range(1, 11):\n",
    "    test_df['x' + str(i)] = [x for x, y in test_dict[i]]\n",
    "    test_df['y' + str(i)] = [y for x, y in test_dict[i]]\n",
    "\n",
    "test_df"
   ]
  },
  {
   "cell_type": "code",
   "execution_count": null,
   "metadata": {},
   "outputs": [],
   "source": [
    "display_coords(test_df, im)"
   ]
  },
  {
   "cell_type": "code",
   "execution_count": null,
   "metadata": {},
   "outputs": [],
   "source": [
    "mixed_dict = mix_up(test_dict, mix_ratio = 0.3)\n",
    "mixed_dict\n",
    "\n",
    "# turn test_dict into dataframe, with 20 columns\n",
    "# columns = ['x1', 'y1', 'x2', 'y2', ..., 'x10', 'y10']\n",
    "# rows = 1000\n",
    "\n",
    "import pandas as pd\n",
    "\n",
    "\n",
    "\n",
    "mixed_df = pd.DataFrame(columns = columns)\n",
    "for i in range(1, 11):\n",
    "    mixed_df['x' + str(i)] = [x for x, y in mixed_dict[i]]\n",
    "    mixed_df['y' + str(i)] = [y for x, y in mixed_dict[i]]\n",
    "\n",
    "mixed_df"
   ]
  },
  {
   "cell_type": "code",
   "execution_count": null,
   "metadata": {},
   "outputs": [],
   "source": [
    "display_coords(mixed_df, im)"
   ]
  },
  {
   "cell_type": "code",
   "execution_count": null,
   "metadata": {},
   "outputs": [],
   "source": [
    "cv2.imshow('Tanks', im)\n",
    "cv2.waitKey(0)\n",
    "cv2.destroyAllWindows()"
   ]
  },
  {
   "cell_type": "code",
   "execution_count": null,
   "metadata": {},
   "outputs": [],
   "source": [
    "def in_box(input_x, input_y, box):\n",
    "    x, y, w, h = box\n",
    "    return x <= input_x <= x + w and y <= input_y <= y + h\n",
    "    \n",
    "def in_which_tank(x, y):\n",
    "    for tank_num, tank_box in tanks_dict.items():\n",
    "        if in_box(x, y, tank_box):\n",
    "            return tank_num\n",
    "    return -1\n",
    "\n",
    "true_df = pd.DataFrame(columns=test_df.columns)\n",
    "for idx, row in test_df.iterrows():\n",
    "    for j in range(1, 11):\n",
    "        x = row['x' + str(j)]\n",
    "        y = row['y' + str(j)]\n",
    "        \n",
    "        tank = in_which_tank(x, y)\n",
    "\n",
    "        if tank != -1:\n",
    "            true_df.loc[idx, 'x' + str(j)] = x\n",
    "            true_df.loc[idx, 'y' + str(j)] = y     \n",
    "\n",
    "true_df"
   ]
  },
  {
   "cell_type": "code",
   "execution_count": null,
   "metadata": {},
   "outputs": [],
   "source": [
    "display_coords(true_df, im)"
   ]
  },
  {
   "cell_type": "code",
   "execution_count": null,
   "metadata": {},
   "outputs": [],
   "source": [
    "from Libs.misc import load_threshold\n",
    "\n",
    "threshold_path = 'Bin/thresholds.json'\n",
    "\n",
    "speed1, speed2 = load_threshold(threshold_path, 'SPEED_1', 'SPEED_2')\n",
    "\n",
    "speed1, speed2"
   ]
  },
  {
   "cell_type": "code",
   "execution_count": null,
   "metadata": {},
   "outputs": [],
   "source": [
    "from Libs.misc import get_file_path, load_raw_df, clean_df\n",
    "\n",
    "file_type = [('Text File', '*.txt')]\n",
    "default_dir = 'Input'\n",
    "txt_path = get_file_path(file_type, default_dir)\n",
    "\n",
    "raw_df, tanks_list = load_raw_df(txt_path)\n",
    "\n",
    "raw_df, _ = clean_df(raw_df, fill = True)\n",
    "\n",
    "raw_df.head()\n"
   ]
  },
  {
   "cell_type": "code",
   "execution_count": null,
   "metadata": {},
   "outputs": [],
   "source": [
    "# export to a csv file\n",
    "raw_df.to_csv('Output/raw_df_withgap.csv', index = False)"
   ]
  },
  {
   "cell_type": "code",
   "execution_count": null,
   "metadata": {},
   "outputs": [],
   "source": [
    "from Libs.misc import display_coords, get_image\n",
    "\n",
    "im, _ = get_image(source = 'image')\n",
    "display_coords(raw_df, im, window_name = \"Fish 3\", tanks_list = tanks_list)\n"
   ]
  },
  {
   "cell_type": "code",
   "execution_count": null,
   "metadata": {},
   "outputs": [],
   "source": [
    "from Libs.analyzer import NovelTankTest\n",
    "\n",
    "nvtt1 = NovelTankTest(raw_df)\n",
    "\n",
    "summary_dict = nvtt1.basiccal()\n",
    "\n",
    "summary_dict"
   ]
  },
  {
   "cell_type": "code",
   "execution_count": null,
   "metadata": {},
   "outputs": [],
   "source": [
    "int(15.3)"
   ]
  },
  {
   "cell_type": "code",
   "execution_count": null,
   "metadata": {},
   "outputs": [],
   "source": []
  },
  {
   "cell_type": "code",
   "execution_count": 1,
   "metadata": {},
   "outputs": [
    {
     "name": "stdout",
     "output_type": "stream",
     "text": [
      "Reading data\n"
     ]
    },
    {
     "name": "stderr",
     "output_type": "stream",
     "text": [
      "100%|██████████| 9/9 [00:00<00:00, 57.40it/s]"
     ]
    },
    {
     "name": "stdout",
     "output_type": "stream",
     "text": [
      "Cleaning data\n"
     ]
    },
    {
     "name": "stderr",
     "output_type": "stream",
     "text": [
      "\n"
     ]
    },
    {
     "name": "stdout",
     "output_type": "stream",
     "text": [
      "Exported filled_history to .json file\n",
      "Tanks list [1, 2, 3, 4, 5, 6, 7, 8, 9]\n",
      "Final DF\n",
      "          X1      Y1      X2      Y2      X3      Y3      X4      Y4      X5  \\\n",
      "0     1107.6  491.66  786.31  559.17  572.93  567.23  365.61  641.30  112.29   \n",
      "1     1107.7  492.22  786.22  560.28  573.04  565.17  364.67  642.15  112.04   \n",
      "2     1107.7  492.95  786.11  561.19  572.94  565.53  364.12  642.38  111.64   \n",
      "3     1107.7  493.39  786.05  562.07  573.01  564.59  363.19  643.36  111.08   \n",
      "4     1107.7  494.05  785.96  563.31  573.06  563.73  362.51  643.67  110.86   \n",
      "...      ...     ...     ...     ...     ...     ...     ...     ...     ...   \n",
      "2995  1108.8  515.26  799.03  631.40  573.28  526.67  428.77  610.68  205.40   \n",
      "2996  1108.9  515.93  799.25  630.94  573.49  525.92  428.77  610.68  205.31   \n",
      "2997  1108.9  516.32  799.53  629.76  573.71  525.01  428.77  610.68  205.02   \n",
      "2998  1108.9  517.13  800.15  627.82  573.80  524.77  429.83  609.00  204.82   \n",
      "2999  1109.0  517.60  800.34  627.11  573.88  523.72  429.87  609.13  204.53   \n",
      "\n",
      "          Y5      X6      Y6      X7      Y7      X8      Y8      X9      Y9  \n",
      "0     467.89  1105.4  304.49  862.89  238.86  677.03  311.97  329.65  213.59  \n",
      "1     469.91  1105.2  304.32  862.01  240.68  676.97  312.39  329.76  213.45  \n",
      "2     470.99  1104.6  303.91  861.47  242.35  676.69  312.08  329.69  213.22  \n",
      "3     472.19  1103.9  303.41  860.84  244.04  676.25  311.73  329.03  212.69  \n",
      "4     472.63  1103.9  303.86  860.44  245.45  676.09  311.64  328.56  211.98  \n",
      "...      ...     ...     ...     ...     ...     ...     ...     ...     ...  \n",
      "2995  554.65  1121.9  210.50  796.76  309.54  585.33  211.75  334.68  169.96  \n",
      "2996  553.20  1122.1  211.85  796.63  309.40  585.91  211.97  335.07  168.57  \n",
      "2997  552.31  1122.5  213.22  796.52  309.24  584.35  213.06  335.34  168.08  \n",
      "2998  551.93  1122.6  214.35  796.32  309.28  582.67  213.92  335.38  167.51  \n",
      "2999  551.56  1122.9  215.92  795.62  310.33  580.00  215.23  335.19  166.46  \n",
      "\n",
      "[3000 rows x 18 columns]\n"
     ]
    }
   ],
   "source": [
    "from Libs.misc import *\n",
    "\n",
    "final_df, im, tanks_list = draw_prep()"
   ]
  },
  {
   "cell_type": "code",
   "execution_count": 2,
   "metadata": {},
   "outputs": [],
   "source": [
    "draw_trajectories(final_df, im, tanks_list, until = 3000)"
   ]
  },
  {
   "cell_type": "code",
   "execution_count": 3,
   "metadata": {},
   "outputs": [
    {
     "name": "stdout",
     "output_type": "stream",
     "text": [
      "Reading data\n"
     ]
    },
    {
     "ename": "FileNotFoundError",
     "evalue": "[Errno 2] No such file or directory: ''",
     "output_type": "error",
     "traceback": [
      "\u001b[1;31m---------------------------------------------------------------------------\u001b[0m",
      "\u001b[1;31mFileNotFoundError\u001b[0m                         Traceback (most recent call last)",
      "\u001b[1;32mc:\\Code\\ChungyuanProjects\\TowerAssayAnalyzer\\test.ipynb Cell 27\u001b[0m in \u001b[0;36m3\n\u001b[0;32m      <a href='vscode-notebook-cell:/c%3A/Code/ChungyuanProjects/TowerAssayAnalyzer/test.ipynb#X35sZmlsZQ%3D%3D?line=0'>1</a>\u001b[0m \u001b[39mfrom\u001b[39;00m \u001b[39mLibs\u001b[39;00m\u001b[39m.\u001b[39;00m\u001b[39mmisc\u001b[39;00m \u001b[39mimport\u001b[39;00m \u001b[39m*\u001b[39m\n\u001b[1;32m----> <a href='vscode-notebook-cell:/c%3A/Code/ChungyuanProjects/TowerAssayAnalyzer/test.ipynb#X35sZmlsZQ%3D%3D?line=2'>3</a>\u001b[0m final_df_1, im_1, tanks_list_1 \u001b[39m=\u001b[39m draw_prep(mode \u001b[39m=\u001b[39;49m \u001b[39m'\u001b[39;49m\u001b[39msingle\u001b[39;49m\u001b[39m'\u001b[39;49m)\n",
      "File \u001b[1;32mc:\\Code\\ChungyuanProjects\\TowerAssayAnalyzer\\Libs\\misc.py:428\u001b[0m, in \u001b[0;36mdraw_prep\u001b[1;34m(mode, im_path, txt_path, sep)\u001b[0m\n\u001b[0;32m    426\u001b[0m \u001b[39mprint\u001b[39m(\u001b[39m\"\u001b[39m\u001b[39mReading data\u001b[39m\u001b[39m\"\u001b[39m)\n\u001b[0;32m    427\u001b[0m \u001b[39mif\u001b[39;00m mode \u001b[39m==\u001b[39m \u001b[39m'\u001b[39m\u001b[39msingle\u001b[39m\u001b[39m'\u001b[39m:\n\u001b[1;32m--> 428\u001b[0m     final_df, _ \u001b[39m=\u001b[39m load_raw_df(txt_paths, sep \u001b[39m=\u001b[39;49m sep)\n\u001b[0;32m    429\u001b[0m     \u001b[39mfor\u001b[39;00m col \u001b[39min\u001b[39;00m final_df\u001b[39m.\u001b[39mcolumns:\n\u001b[0;32m    430\u001b[0m         \u001b[39mif\u001b[39;00m \u001b[39m'\u001b[39m\u001b[39mx\u001b[39m\u001b[39m'\u001b[39m \u001b[39min\u001b[39;00m col\u001b[39m.\u001b[39mlower():\n",
      "File \u001b[1;32mc:\\Code\\ChungyuanProjects\\TowerAssayAnalyzer\\Libs\\misc.py:45\u001b[0m, in \u001b[0;36mload_raw_df\u001b[1;34m(txt_path, sep)\u001b[0m\n\u001b[0;32m     43\u001b[0m \u001b[39mdef\u001b[39;00m \u001b[39mload_raw_df\u001b[39m(txt_path, sep \u001b[39m=\u001b[39m \u001b[39m\"\u001b[39m\u001b[39m\\t\u001b[39;00m\u001b[39m\"\u001b[39m):\n\u001b[0;32m     44\u001b[0m     \u001b[39m# Read the .txt file into a dataframe\u001b[39;00m\n\u001b[1;32m---> 45\u001b[0m     raw_df \u001b[39m=\u001b[39m pd\u001b[39m.\u001b[39;49mread_csv(txt_path, sep \u001b[39m=\u001b[39;49m sep)\n\u001b[0;32m     47\u001b[0m     \u001b[39m# Remove unnecessary columns\u001b[39;00m\n\u001b[0;32m     48\u001b[0m     tanks_list \u001b[39m=\u001b[39m []\n",
      "File \u001b[1;32mc:\\ProgramData\\Anaconda3\\envs\\myenv\\lib\\site-packages\\pandas\\util\\_decorators.py:211\u001b[0m, in \u001b[0;36mdeprecate_kwarg.<locals>._deprecate_kwarg.<locals>.wrapper\u001b[1;34m(*args, **kwargs)\u001b[0m\n\u001b[0;32m    209\u001b[0m     \u001b[39melse\u001b[39;00m:\n\u001b[0;32m    210\u001b[0m         kwargs[new_arg_name] \u001b[39m=\u001b[39m new_arg_value\n\u001b[1;32m--> 211\u001b[0m \u001b[39mreturn\u001b[39;00m func(\u001b[39m*\u001b[39margs, \u001b[39m*\u001b[39m\u001b[39m*\u001b[39mkwargs)\n",
      "File \u001b[1;32mc:\\ProgramData\\Anaconda3\\envs\\myenv\\lib\\site-packages\\pandas\\util\\_decorators.py:317\u001b[0m, in \u001b[0;36mdeprecate_nonkeyword_arguments.<locals>.decorate.<locals>.wrapper\u001b[1;34m(*args, **kwargs)\u001b[0m\n\u001b[0;32m    311\u001b[0m \u001b[39mif\u001b[39;00m \u001b[39mlen\u001b[39m(args) \u001b[39m>\u001b[39m num_allow_args:\n\u001b[0;32m    312\u001b[0m     warnings\u001b[39m.\u001b[39mwarn(\n\u001b[0;32m    313\u001b[0m         msg\u001b[39m.\u001b[39mformat(arguments\u001b[39m=\u001b[39marguments),\n\u001b[0;32m    314\u001b[0m         \u001b[39mFutureWarning\u001b[39;00m,\n\u001b[0;32m    315\u001b[0m         stacklevel\u001b[39m=\u001b[39mfind_stack_level(inspect\u001b[39m.\u001b[39mcurrentframe()),\n\u001b[0;32m    316\u001b[0m     )\n\u001b[1;32m--> 317\u001b[0m \u001b[39mreturn\u001b[39;00m func(\u001b[39m*\u001b[39margs, \u001b[39m*\u001b[39m\u001b[39m*\u001b[39mkwargs)\n",
      "File \u001b[1;32mc:\\ProgramData\\Anaconda3\\envs\\myenv\\lib\\site-packages\\pandas\\io\\parsers\\readers.py:950\u001b[0m, in \u001b[0;36mread_csv\u001b[1;34m(filepath_or_buffer, sep, delimiter, header, names, index_col, usecols, squeeze, prefix, mangle_dupe_cols, dtype, engine, converters, true_values, false_values, skipinitialspace, skiprows, skipfooter, nrows, na_values, keep_default_na, na_filter, verbose, skip_blank_lines, parse_dates, infer_datetime_format, keep_date_col, date_parser, dayfirst, cache_dates, iterator, chunksize, compression, thousands, decimal, lineterminator, quotechar, quoting, doublequote, escapechar, comment, encoding, encoding_errors, dialect, error_bad_lines, warn_bad_lines, on_bad_lines, delim_whitespace, low_memory, memory_map, float_precision, storage_options)\u001b[0m\n\u001b[0;32m    935\u001b[0m kwds_defaults \u001b[39m=\u001b[39m _refine_defaults_read(\n\u001b[0;32m    936\u001b[0m     dialect,\n\u001b[0;32m    937\u001b[0m     delimiter,\n\u001b[1;32m   (...)\u001b[0m\n\u001b[0;32m    946\u001b[0m     defaults\u001b[39m=\u001b[39m{\u001b[39m\"\u001b[39m\u001b[39mdelimiter\u001b[39m\u001b[39m\"\u001b[39m: \u001b[39m\"\u001b[39m\u001b[39m,\u001b[39m\u001b[39m\"\u001b[39m},\n\u001b[0;32m    947\u001b[0m )\n\u001b[0;32m    948\u001b[0m kwds\u001b[39m.\u001b[39mupdate(kwds_defaults)\n\u001b[1;32m--> 950\u001b[0m \u001b[39mreturn\u001b[39;00m _read(filepath_or_buffer, kwds)\n",
      "File \u001b[1;32mc:\\ProgramData\\Anaconda3\\envs\\myenv\\lib\\site-packages\\pandas\\io\\parsers\\readers.py:605\u001b[0m, in \u001b[0;36m_read\u001b[1;34m(filepath_or_buffer, kwds)\u001b[0m\n\u001b[0;32m    602\u001b[0m _validate_names(kwds\u001b[39m.\u001b[39mget(\u001b[39m\"\u001b[39m\u001b[39mnames\u001b[39m\u001b[39m\"\u001b[39m, \u001b[39mNone\u001b[39;00m))\n\u001b[0;32m    604\u001b[0m \u001b[39m# Create the parser.\u001b[39;00m\n\u001b[1;32m--> 605\u001b[0m parser \u001b[39m=\u001b[39m TextFileReader(filepath_or_buffer, \u001b[39m*\u001b[39m\u001b[39m*\u001b[39mkwds)\n\u001b[0;32m    607\u001b[0m \u001b[39mif\u001b[39;00m chunksize \u001b[39mor\u001b[39;00m iterator:\n\u001b[0;32m    608\u001b[0m     \u001b[39mreturn\u001b[39;00m parser\n",
      "File \u001b[1;32mc:\\ProgramData\\Anaconda3\\envs\\myenv\\lib\\site-packages\\pandas\\io\\parsers\\readers.py:1442\u001b[0m, in \u001b[0;36mTextFileReader.__init__\u001b[1;34m(self, f, engine, **kwds)\u001b[0m\n\u001b[0;32m   1439\u001b[0m     \u001b[39mself\u001b[39m\u001b[39m.\u001b[39moptions[\u001b[39m\"\u001b[39m\u001b[39mhas_index_names\u001b[39m\u001b[39m\"\u001b[39m] \u001b[39m=\u001b[39m kwds[\u001b[39m\"\u001b[39m\u001b[39mhas_index_names\u001b[39m\u001b[39m\"\u001b[39m]\n\u001b[0;32m   1441\u001b[0m \u001b[39mself\u001b[39m\u001b[39m.\u001b[39mhandles: IOHandles \u001b[39m|\u001b[39m \u001b[39mNone\u001b[39;00m \u001b[39m=\u001b[39m \u001b[39mNone\u001b[39;00m\n\u001b[1;32m-> 1442\u001b[0m \u001b[39mself\u001b[39m\u001b[39m.\u001b[39m_engine \u001b[39m=\u001b[39m \u001b[39mself\u001b[39;49m\u001b[39m.\u001b[39;49m_make_engine(f, \u001b[39mself\u001b[39;49m\u001b[39m.\u001b[39;49mengine)\n",
      "File \u001b[1;32mc:\\ProgramData\\Anaconda3\\envs\\myenv\\lib\\site-packages\\pandas\\io\\parsers\\readers.py:1729\u001b[0m, in \u001b[0;36mTextFileReader._make_engine\u001b[1;34m(self, f, engine)\u001b[0m\n\u001b[0;32m   1727\u001b[0m     is_text \u001b[39m=\u001b[39m \u001b[39mFalse\u001b[39;00m\n\u001b[0;32m   1728\u001b[0m     mode \u001b[39m=\u001b[39m \u001b[39m\"\u001b[39m\u001b[39mrb\u001b[39m\u001b[39m\"\u001b[39m\n\u001b[1;32m-> 1729\u001b[0m \u001b[39mself\u001b[39m\u001b[39m.\u001b[39mhandles \u001b[39m=\u001b[39m get_handle(\n\u001b[0;32m   1730\u001b[0m     f,\n\u001b[0;32m   1731\u001b[0m     mode,\n\u001b[0;32m   1732\u001b[0m     encoding\u001b[39m=\u001b[39;49m\u001b[39mself\u001b[39;49m\u001b[39m.\u001b[39;49moptions\u001b[39m.\u001b[39;49mget(\u001b[39m\"\u001b[39;49m\u001b[39mencoding\u001b[39;49m\u001b[39m\"\u001b[39;49m, \u001b[39mNone\u001b[39;49;00m),\n\u001b[0;32m   1733\u001b[0m     compression\u001b[39m=\u001b[39;49m\u001b[39mself\u001b[39;49m\u001b[39m.\u001b[39;49moptions\u001b[39m.\u001b[39;49mget(\u001b[39m\"\u001b[39;49m\u001b[39mcompression\u001b[39;49m\u001b[39m\"\u001b[39;49m, \u001b[39mNone\u001b[39;49;00m),\n\u001b[0;32m   1734\u001b[0m     memory_map\u001b[39m=\u001b[39;49m\u001b[39mself\u001b[39;49m\u001b[39m.\u001b[39;49moptions\u001b[39m.\u001b[39;49mget(\u001b[39m\"\u001b[39;49m\u001b[39mmemory_map\u001b[39;49m\u001b[39m\"\u001b[39;49m, \u001b[39mFalse\u001b[39;49;00m),\n\u001b[0;32m   1735\u001b[0m     is_text\u001b[39m=\u001b[39;49mis_text,\n\u001b[0;32m   1736\u001b[0m     errors\u001b[39m=\u001b[39;49m\u001b[39mself\u001b[39;49m\u001b[39m.\u001b[39;49moptions\u001b[39m.\u001b[39;49mget(\u001b[39m\"\u001b[39;49m\u001b[39mencoding_errors\u001b[39;49m\u001b[39m\"\u001b[39;49m, \u001b[39m\"\u001b[39;49m\u001b[39mstrict\u001b[39;49m\u001b[39m\"\u001b[39;49m),\n\u001b[0;32m   1737\u001b[0m     storage_options\u001b[39m=\u001b[39;49m\u001b[39mself\u001b[39;49m\u001b[39m.\u001b[39;49moptions\u001b[39m.\u001b[39;49mget(\u001b[39m\"\u001b[39;49m\u001b[39mstorage_options\u001b[39;49m\u001b[39m\"\u001b[39;49m, \u001b[39mNone\u001b[39;49;00m),\n\u001b[0;32m   1738\u001b[0m )\n\u001b[0;32m   1739\u001b[0m \u001b[39massert\u001b[39;00m \u001b[39mself\u001b[39m\u001b[39m.\u001b[39mhandles \u001b[39mis\u001b[39;00m \u001b[39mnot\u001b[39;00m \u001b[39mNone\u001b[39;00m\n\u001b[0;32m   1740\u001b[0m f \u001b[39m=\u001b[39m \u001b[39mself\u001b[39m\u001b[39m.\u001b[39mhandles\u001b[39m.\u001b[39mhandle\n",
      "File \u001b[1;32mc:\\ProgramData\\Anaconda3\\envs\\myenv\\lib\\site-packages\\pandas\\io\\common.py:857\u001b[0m, in \u001b[0;36mget_handle\u001b[1;34m(path_or_buf, mode, encoding, compression, memory_map, is_text, errors, storage_options)\u001b[0m\n\u001b[0;32m    852\u001b[0m \u001b[39melif\u001b[39;00m \u001b[39misinstance\u001b[39m(handle, \u001b[39mstr\u001b[39m):\n\u001b[0;32m    853\u001b[0m     \u001b[39m# Check whether the filename is to be opened in binary mode.\u001b[39;00m\n\u001b[0;32m    854\u001b[0m     \u001b[39m# Binary mode does not support 'encoding' and 'newline'.\u001b[39;00m\n\u001b[0;32m    855\u001b[0m     \u001b[39mif\u001b[39;00m ioargs\u001b[39m.\u001b[39mencoding \u001b[39mand\u001b[39;00m \u001b[39m\"\u001b[39m\u001b[39mb\u001b[39m\u001b[39m\"\u001b[39m \u001b[39mnot\u001b[39;00m \u001b[39min\u001b[39;00m ioargs\u001b[39m.\u001b[39mmode:\n\u001b[0;32m    856\u001b[0m         \u001b[39m# Encoding\u001b[39;00m\n\u001b[1;32m--> 857\u001b[0m         handle \u001b[39m=\u001b[39m \u001b[39mopen\u001b[39;49m(\n\u001b[0;32m    858\u001b[0m             handle,\n\u001b[0;32m    859\u001b[0m             ioargs\u001b[39m.\u001b[39;49mmode,\n\u001b[0;32m    860\u001b[0m             encoding\u001b[39m=\u001b[39;49mioargs\u001b[39m.\u001b[39;49mencoding,\n\u001b[0;32m    861\u001b[0m             errors\u001b[39m=\u001b[39;49merrors,\n\u001b[0;32m    862\u001b[0m             newline\u001b[39m=\u001b[39;49m\u001b[39m\"\u001b[39;49m\u001b[39m\"\u001b[39;49m,\n\u001b[0;32m    863\u001b[0m         )\n\u001b[0;32m    864\u001b[0m     \u001b[39melse\u001b[39;00m:\n\u001b[0;32m    865\u001b[0m         \u001b[39m# Binary mode\u001b[39;00m\n\u001b[0;32m    866\u001b[0m         handle \u001b[39m=\u001b[39m \u001b[39mopen\u001b[39m(handle, ioargs\u001b[39m.\u001b[39mmode)\n",
      "\u001b[1;31mFileNotFoundError\u001b[0m: [Errno 2] No such file or directory: ''"
     ]
    }
   ],
   "source": [
    "from Libs.misc import *\n",
    "\n",
    "final_df_1, im_1, tanks_list_1 = draw_prep(mode = 'single')"
   ]
  },
  {
   "cell_type": "code",
   "execution_count": null,
   "metadata": {},
   "outputs": [],
   "source": [
    "import time\n",
    "import cv2\n",
    "\n",
    "time_range = [200, 250]\n",
    "\n",
    "time = time_range[0]\n",
    "while True:\n",
    "    print('Time frame: ', time)\n",
    "    draw_trajectories(final_df_1, im_1, tanks_list_1, until = time, wait = 5)\n",
    "    time += 1\n",
    "    cv2.waitKey(1)\n",
    "    # If \"spacebar\" is pressed, pause the video\n",
    "    if cv2.waitKey(1) & 0xFF == ord(' '):\n",
    "        cv2.waitKey(0)\n",
    "    if time == time_range[1] or cv2.waitKey(1) & 0xFF == ord('q'):\n",
    "        break\n",
    "\n",
    "cv2.destroyAllWindows()\n",
    "for time in range(200, 250):\n",
    "    draw_trajectories(final_df_1, im_1, tanks_list_1, until = time, wait = 5)\n",
    "    # if a key is pressed, pause the video\n",
    "cv2.waitKey(0)\n",
    "cv2.destroyAllWindows()\n",
    "\n",
    "# draw_trajectories(final_df_1, im_1, tanks_list_1, until = 230)"
   ]
  },
  {
   "cell_type": "code",
   "execution_count": null,
   "metadata": {},
   "outputs": [],
   "source": [
    "import numpy as np\n",
    "import pandas as pd\n",
    "\n",
    "# create an example dataframe with column X Y\n",
    "# in X there are some Nan values, along with int values\n",
    "# in Y there are some Nan values, along with int values\n",
    "\n",
    "df = pd.DataFrame({'X': [1, 2, 3, np.nan, 5, np.nan, 7, 8, 9, 10],\n",
    "                     'Y': [1, 2, 3, 4, 5, 6, 7, 8, 9, np.nan]})\n",
    "\n",
    "# find nan in X\n",
    "nan_coords = np.where(df['X'].isnull())[0]\n",
    "len(nan_coords)"
   ]
  },
  {
   "cell_type": "code",
   "execution_count": null,
   "metadata": {},
   "outputs": [],
   "source": [
    "my_array = [1, 2, 3, 4, 7, 8, 9, 15, 16, 17]\n",
    "\n",
    "# turn it into numpy array\n",
    "my_array = np.array(my_array)\n",
    "\n",
    "# split my_array into groups of continous numbers, sep = 1\n",
    "# output = [[1, 2, 3, 4], [7, 8, 9], [15, 16, 17]]\n",
    "\n",
    "def split_array(my_array, sep = 1):\n",
    "    # get the difference between each number\n",
    "    diff = np.diff(my_array)\n",
    "    # get the index of the difference that is larger than sep\n",
    "    split_index = np.where(diff > sep)[0]\n",
    "    # split the array into groups\n",
    "    split_array = np.split(my_array, split_index + 1)\n",
    "    return split_array\n",
    "\n",
    "split_array(my_array)"
   ]
  },
  {
   "cell_type": "code",
   "execution_count": 1,
   "metadata": {},
   "outputs": [
    {
     "data": {
      "text/plain": [
       "False"
      ]
     },
     "execution_count": 1,
     "metadata": {},
     "output_type": "execute_result"
    }
   ],
   "source": [
    "import torch\n",
    "\n",
    "# test cuda\n",
    "torch.cuda.is_available()\n"
   ]
  },
  {
   "cell_type": "code",
   "execution_count": null,
   "metadata": {},
   "outputs": [],
   "source": []
  }
 ],
 "metadata": {
  "kernelspec": {
   "display_name": "myenv",
   "language": "python",
   "name": "python3"
  },
  "language_info": {
   "codemirror_mode": {
    "name": "ipython",
    "version": 3
   },
   "file_extension": ".py",
   "mimetype": "text/x-python",
   "name": "python",
   "nbconvert_exporter": "python",
   "pygments_lexer": "ipython3",
   "version": "3.9.13"
  },
  "orig_nbformat": 4
 },
 "nbformat": 4,
 "nbformat_minor": 2
}
