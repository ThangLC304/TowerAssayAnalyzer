{
 "cells": [
  {
   "attachments": {},
   "cell_type": "markdown",
   "metadata": {},
   "source": [
    "# Rearranger"
   ]
  },
  {
   "cell_type": "code",
   "execution_count": null,
   "metadata": {},
   "outputs": [],
   "source": [
    "import pandas as pd\n",
    "import os\n",
    "import cv2\n",
    "import numpy as np\n",
    "import matplotlib.pyplot as plt\n",
    "import math\n",
    "import tkinter as tk\n",
    "from tkinter import filedialog\n",
    "from pathlib import Path\n",
    "from functools import partial, wraps"
   ]
  },
  {
   "cell_type": "code",
   "execution_count": null,
   "metadata": {},
   "outputs": [],
   "source": [
    "root = tk.Tk()\n",
    "root.withdraw()\n",
    "\n",
    "# Open dialog to choose the .txt file\n",
    "file_type = [('Text File', '*.txt')]\n",
    "default_dir = 'Input'\n",
    "file_path = filedialog.askopenfilename(filetypes=file_type, initialdir=default_dir)\n",
    "\n",
    "# Read the .txt file into a dataframe\n",
    "raw_df = pd.read_csv(file_path, sep = \"\\t\")\n",
    "\n",
    "raw_df.head()\n"
   ]
  },
  {
   "cell_type": "code",
   "execution_count": null,
   "metadata": {},
   "outputs": [],
   "source": [
    "# Remove unnecessary columns\n",
    "for col in raw_df.columns:\n",
    "    if \"unnamed\" in col.lower() or \"prob\" in col.lower():\n",
    "        raw_df.drop(col, axis=1, inplace=True)\n",
    "\n",
    "raw_df"
   ]
  },
  {
   "cell_type": "code",
   "execution_count": null,
   "metadata": {},
   "outputs": [],
   "source": [
    "# Extract the first frame of the video to get a sample image\n",
    "\n",
    "# Open dialog to choose the .mp4 file\n",
    "file_type = [('Video File', '*.mp4')]\n",
    "default_dir = 'Input'\n",
    "file_path = filedialog.askopenfilename(filetypes=file_type, initialdir=default_dir)\n",
    "video_P = Path(file_path)\n",
    "\n",
    "cap = cv2.VideoCapture(file_path)\n",
    "_, frame = cap.read()\n",
    "cap.release()\n",
    "\n",
    "# Export frame as a .png file\n",
    "image_P = video_P.parent / (video_P.stem + \".png\")\n",
    "cv2.imwrite(str(image_P), frame)\n"
   ]
  },
  {
   "cell_type": "code",
   "execution_count": null,
   "metadata": {},
   "outputs": [],
   "source": [
    "def get_tanks(im):\n",
    "    example_tanks = {}\n",
    "\n",
    "    tank_names = ['Top Left', 'Top Right', 'Bottom Left']\n",
    "\n",
    "    def tank_selector(im, tank_name):\n",
    "        while True:\n",
    "            selected_pixel = cv2.selectROI('Selecting tank at position'+str(tank_name), im)\n",
    "            \n",
    "            # print out the coordinates of top left and bottom right pixel of the ROI\n",
    "            print('Tank at position: ', tank_name)\n",
    "            print('Top left pixel: x = {}, y = {}'.format(selected_pixel[0], selected_pixel[1]))\n",
    "            print('Bottom right pixel: x = {}, y = {}'.format(selected_pixel[0] + selected_pixel[2], selected_pixel[1] + selected_pixel[3]))\n",
    "            print('Middle line: y = {}'.format(selected_pixel[1] + selected_pixel[3] / 2))\n",
    "            tank_d = math.ceil((selected_pixel[2] + selected_pixel[3]) / 2)\n",
    "            print('Diameter of the tank : ', tank_d)\n",
    "            print()\n",
    "            example_tanks[tank_name] = selected_pixel\n",
    "            cv2.destroyAllWindows()\n",
    "            break\n",
    "\n",
    "    for name in tank_names:\n",
    "        tank_selector(im, name)\n",
    "\n",
    "    return example_tanks"
   ]
  },
  {
   "cell_type": "code",
   "execution_count": null,
   "metadata": {},
   "outputs": [],
   "source": [
    "image_P = Path(r\"C:\\Code\\ChungyuanProjects\\TowerAssayAnalyzer\\Input\\Zebrafish Tower\\A - Novel Tank Test\\01 - Control (1st Batch).png\")\n"
   ]
  },
  {
   "cell_type": "code",
   "execution_count": null,
   "metadata": {},
   "outputs": [],
   "source": [
    "\n",
    "im = cv2.imread(str(image_P))\n",
    "example_wells = get_tanks(im)"
   ]
  },
  {
   "cell_type": "code",
   "execution_count": null,
   "metadata": {},
   "outputs": [],
   "source": [
    "tanks_col = 5\n",
    "tanks_row = 2\n",
    "\n",
    "# tanks number\n",
    "# 10 9 8 7 6\n",
    "# 5 4 3 2 1\n",
    "\n",
    "tanks_dict = {}\n",
    "\n",
    "TL_num = tanks_col * tanks_row\n",
    "TR_num = TL_num - tanks_col + 1\n",
    "BL_num = tanks_col\n",
    "\n",
    "tanks_dict[TL_num] = example_wells['Top Left']\n",
    "tanks_dict[TR_num] = example_wells['Top Right']\n",
    "tanks_dict[BL_num] = example_wells['Bottom Left']\n",
    "tanks_dict[1] = (tanks_dict[6][0] - (tanks_dict[10][0] - tanks_dict[5][0]), tanks_dict[6][1] - (tanks_dict[10][1] - tanks_dict[5][1]), tanks_dict[6][2]*(tanks_dict[5][2]/tanks_dict[10][2]), tanks_dict[6][3]*(tanks_dict[5][3]/tanks_dict[10][3]))\n",
    "\n",
    "def fill_row(tanks_dict, start, end, display = True):\n",
    "    x_sep = (tanks_dict[start][0] - tanks_dict[end][0])/(end - start)\n",
    "    y_sep = (tanks_dict[start][1] - tanks_dict[end][1])/(end - start)\n",
    "    w_sep = (tanks_dict[start][2] - tanks_dict[end][2])/(end - start)\n",
    "    h_sep = (tanks_dict[start][3] - tanks_dict[end][3])/(end - start)\n",
    "\n",
    "    for i in range(start+1, end):\n",
    "        tanks_dict[i] = (tanks_dict[end][0] + x_sep*(end-i), tanks_dict[end][1] + y_sep*(end-i), tanks_dict[end][2] + w_sep*(end-i), tanks_dict[end][3] + h_sep*(end-i))\n",
    "    \n",
    "    if display:\n",
    "        for key, value in locals().items():\n",
    "            print(key + ' = ' + str(value))\n",
    "\n",
    "    return tanks_dict\n",
    "\n",
    "for row in range(0, tanks_row):\n",
    "    tanks_dict = fill_row(tanks_dict, 1 + row*tanks_col, (row+1)*tanks_col)\n",
    "    # row = 0, fill(tanks_dict, 1 + 0*5,  (0+1)*5)\n",
    "    # row = 1, fill(tanks_dict, 1 + 1*5,  (1+1)*5)\n",
    "\n",
    "# tanks_dict = fill_row(tanks_dict, 1, 5)\n",
    "# tanks_dict = fill_row(tanks_dict, 6, 10)\n",
    "\n",
    "# round up all the values in tanks_dict to integers\n",
    "for key in tanks_dict:\n",
    "    tanks_dict[key] = tuple([int(round(i)) for i in tanks_dict[key]])\n",
    "\n",
    "tanks_dict\n"
   ]
  },
  {
   "cell_type": "code",
   "execution_count": null,
   "metadata": {},
   "outputs": [],
   "source": [
    "im = cv2.imread(str(image_P))\n",
    "\n",
    "# Display predicted tanks\n",
    "def display_tanks():\n",
    "    for i in range(1, 11):\n",
    "        x, y, w, h = tanks_dict[i]\n",
    "        cv2.rectangle(im, (x, y), (x + w, y + h), (0, 255, 0), 2)\n",
    "        cv2.putText(im, str(i), (x, y), cv2.FONT_HERSHEY_SIMPLEX, 1, (0, 255, 0), 2, cv2.LINE_AA)\n",
    "    cv2.imshow('Tanks', im)\n",
    "    cv2.waitKey(0)\n",
    "    cv2.destroyAllWindows()\n",
    "\n",
    "display_tanks()\n"
   ]
  },
  {
   "cell_type": "code",
   "execution_count": null,
   "metadata": {},
   "outputs": [],
   "source": [
    "import random\n",
    "from Libs.misc import display_coords\n",
    "\n",
    "def coord_generator(box, points = 1000):\n",
    "    x, y, w, h = box\n",
    "    coords = []\n",
    "    for i in range(points):\n",
    "        x_coord = random.randint(x, x+w)\n",
    "        y_coord = random.randint(y, y+h)\n",
    "        coords.append((x_coord, y_coord))\n",
    "    return coords\n",
    "\n",
    "def mix_up(input_dict, mix_ratio = 0.3):\n",
    "    # input_dict has 10 keys \n",
    "    # keys are 1, 2, 3, 4, 5, 6, 7, 8, 9, 10\n",
    "    # values are coordinates inside the tanks\n",
    "    # mix_ratio is the ratio of mixing up the coordinates\n",
    "    # mix_ratio = 0.3 means 30% of the coordinates will be mixed up\n",
    "\n",
    "    for i in range(1, len(input_dict)+1):\n",
    "        if i == 1:\n",
    "            continue\n",
    "        else:\n",
    "            for j in range(1, len(input_dict[i])+1):\n",
    "                if random.random() < mix_ratio:\n",
    "                    # swap the coordinates\n",
    "                    input_dict[i][j-1], input_dict[i-1][j-1] = input_dict[i-1][j-1], input_dict[i][j-1]\n",
    "    return input_dict\n",
    "                    \n",
    "def mix_up_df(input_df, mix_ratio = 0.3):\n",
    "\n",
    "    for i in range(1, len(input_df.columns)+1, 2):\n",
    "        if i == 1:\n",
    "            continue\n",
    "        else:\n",
    "            for j in range(1, len(input_df)+1):\n",
    "                if random.random() < mix_ratio:\n",
    "                    # swap the coordinates\n",
    "                    input_df.iloc[j-1, i-1], input_df.iloc[j-1, i-2] = input_df.iloc[j-1, i-2], input_df.iloc[j-1, i-1]\n",
    "\n",
    "    return input_df\n",
    "\n",
    "test_dict = {}\n",
    "for i in range(1, 11):\n",
    "    test_dict[i] = coord_generator(tanks_dict[i])\n",
    "\n",
    "\n",
    "columns = []\n",
    "for i in range (1, 11):\n",
    "    columns.append('x' + str(i))\n",
    "    columns.append('y' + str(i))\n",
    "\n",
    "test_df = pd.DataFrame(columns = columns)\n",
    "for i in range(1, 11):\n",
    "    test_df['x' + str(i)] = [x for x, y in test_dict[i]]\n",
    "    test_df['y' + str(i)] = [y for x, y in test_dict[i]]\n",
    "\n",
    "test_df"
   ]
  },
  {
   "cell_type": "code",
   "execution_count": null,
   "metadata": {},
   "outputs": [],
   "source": [
    "display_coords(test_df, im)"
   ]
  },
  {
   "cell_type": "code",
   "execution_count": null,
   "metadata": {},
   "outputs": [],
   "source": [
    "mixed_dict = mix_up(test_dict, mix_ratio = 0.3)\n",
    "mixed_dict\n",
    "\n",
    "# turn test_dict into dataframe, with 20 columns\n",
    "# columns = ['x1', 'y1', 'x2', 'y2', ..., 'x10', 'y10']\n",
    "# rows = 1000\n",
    "\n",
    "import pandas as pd\n",
    "\n",
    "\n",
    "\n",
    "mixed_df = pd.DataFrame(columns = columns)\n",
    "for i in range(1, 11):\n",
    "    mixed_df['x' + str(i)] = [x for x, y in mixed_dict[i]]\n",
    "    mixed_df['y' + str(i)] = [y for x, y in mixed_dict[i]]\n",
    "\n",
    "mixed_df"
   ]
  },
  {
   "cell_type": "code",
   "execution_count": null,
   "metadata": {},
   "outputs": [],
   "source": [
    "display_coords(mixed_df, im)"
   ]
  },
  {
   "cell_type": "code",
   "execution_count": null,
   "metadata": {},
   "outputs": [],
   "source": [
    "cv2.imshow('Tanks', im)\n",
    "cv2.waitKey(0)\n",
    "cv2.destroyAllWindows()"
   ]
  },
  {
   "cell_type": "code",
   "execution_count": null,
   "metadata": {},
   "outputs": [],
   "source": [
    "def in_box(input_x, input_y, box):\n",
    "    x, y, w, h = box\n",
    "    return x <= input_x <= x + w and y <= input_y <= y + h\n",
    "    \n",
    "def in_which_tank(x, y):\n",
    "    for tank_num, tank_box in tanks_dict.items():\n",
    "        if in_box(x, y, tank_box):\n",
    "            return tank_num\n",
    "    return -1\n",
    "\n",
    "true_df = pd.DataFrame(columns=test_df.columns)\n",
    "for idx, row in test_df.iterrows():\n",
    "    for j in range(1, 11):\n",
    "        x = row['x' + str(j)]\n",
    "        y = row['y' + str(j)]\n",
    "        \n",
    "        tank = in_which_tank(x, y)\n",
    "\n",
    "        if tank != -1:\n",
    "            true_df.loc[idx, 'x' + str(j)] = x\n",
    "            true_df.loc[idx, 'y' + str(j)] = y     \n",
    "\n",
    "true_df"
   ]
  },
  {
   "cell_type": "code",
   "execution_count": null,
   "metadata": {},
   "outputs": [],
   "source": [
    "display_coords(true_df, im)"
   ]
  },
  {
   "cell_type": "code",
   "execution_count": null,
   "metadata": {},
   "outputs": [],
   "source": [
    "from Libs.misc import load_threshold\n",
    "\n",
    "threshold_path = 'Bin/thresholds.json'\n",
    "\n",
    "speed1, speed2 = load_threshold(threshold_path, 'SPEED_1', 'SPEED_2')\n",
    "\n",
    "speed1, speed2"
   ]
  },
  {
   "cell_type": "code",
   "execution_count": null,
   "metadata": {},
   "outputs": [],
   "source": [
    "from Libs.misc import get_file_path, load_raw_df, clean_df\n",
    "\n",
    "file_type = [('Text File', '*.txt')]\n",
    "default_dir = 'Input'\n",
    "txt_path = get_file_path(file_type, default_dir)\n",
    "\n",
    "raw_df, tanks_list = load_raw_df(txt_path)\n",
    "\n",
    "raw_df, _ = clean_df(raw_df, fill = True)\n",
    "\n",
    "raw_df.head()\n"
   ]
  },
  {
   "cell_type": "code",
   "execution_count": null,
   "metadata": {},
   "outputs": [],
   "source": [
    "# export to a csv file\n",
    "raw_df.to_csv('Output/raw_df_withgap.csv', index = False)"
   ]
  },
  {
   "cell_type": "code",
   "execution_count": null,
   "metadata": {},
   "outputs": [],
   "source": [
    "from Libs.misc import display_coords, get_image\n",
    "\n",
    "im, _ = get_image(source = 'image')\n",
    "display_coords(raw_df, im, window_name = \"Fish 3\", tanks_list = tanks_list)\n"
   ]
  },
  {
   "cell_type": "code",
   "execution_count": null,
   "metadata": {},
   "outputs": [],
   "source": [
    "from Libs.analyzer import NovelTankTest\n",
    "\n",
    "nvtt1 = NovelTankTest(raw_df)\n",
    "\n",
    "summary_dict = nvtt1.basiccal()\n",
    "\n",
    "summary_dict"
   ]
  },
  {
   "cell_type": "code",
   "execution_count": null,
   "metadata": {},
   "outputs": [],
   "source": [
    "int(15.3)"
   ]
  },
  {
   "cell_type": "code",
   "execution_count": null,
   "metadata": {},
   "outputs": [],
   "source": []
  },
  {
   "cell_type": "code",
   "execution_count": null,
   "metadata": {},
   "outputs": [],
   "source": [
    "from Libs.misc import *\n",
    "\n",
    "final_df, im, tanks_list = draw_prep()"
   ]
  },
  {
   "cell_type": "code",
   "execution_count": null,
   "metadata": {},
   "outputs": [],
   "source": [
    "draw_trajectories(final_df, im, tanks_list, until = 3000)"
   ]
  },
  {
   "cell_type": "code",
   "execution_count": null,
   "metadata": {},
   "outputs": [],
   "source": [
    "from Libs.misc import *\n",
    "\n",
    "final_df_1, im_1, tanks_list_1 = draw_prep(mode = 'single')"
   ]
  },
  {
   "cell_type": "code",
   "execution_count": null,
   "metadata": {},
   "outputs": [],
   "source": [
    "import time\n",
    "import cv2\n",
    "\n",
    "time_range = [200, 250]\n",
    "\n",
    "time = time_range[0]\n",
    "while True:\n",
    "    print('Time frame: ', time)\n",
    "    draw_trajectories(final_df_1, im_1, tanks_list_1, until = time, wait = 5)\n",
    "    time += 1\n",
    "    cv2.waitKey(1)\n",
    "    # If \"spacebar\" is pressed, pause the video\n",
    "    if cv2.waitKey(1) & 0xFF == ord(' '):\n",
    "        cv2.waitKey(0)\n",
    "    if time == time_range[1] or cv2.waitKey(1) & 0xFF == ord('q'):\n",
    "        break\n",
    "\n",
    "cv2.destroyAllWindows()\n",
    "for time in range(200, 250):\n",
    "    draw_trajectories(final_df_1, im_1, tanks_list_1, until = time, wait = 5)\n",
    "    # if a key is pressed, pause the video\n",
    "cv2.waitKey(0)\n",
    "cv2.destroyAllWindows()\n",
    "\n",
    "# draw_trajectories(final_df_1, im_1, tanks_list_1, until = 230)"
   ]
  },
  {
   "cell_type": "code",
   "execution_count": null,
   "metadata": {},
   "outputs": [],
   "source": [
    "import numpy as np\n",
    "import pandas as pd\n",
    "\n",
    "# create an example dataframe with column X Y\n",
    "# in X there are some Nan values, along with int values\n",
    "# in Y there are some Nan values, along with int values\n",
    "\n",
    "df = pd.DataFrame({'X': [1, 2, 3, np.nan, 5, np.nan, 7, 8, 9, 10],\n",
    "                     'Y': [1, 2, 3, 4, 5, 6, 7, 8, 9, np.nan]})\n",
    "\n",
    "# find nan in X\n",
    "nan_coords = np.where(df['X'].isnull())[0]\n",
    "len(nan_coords)"
   ]
  },
  {
   "cell_type": "code",
   "execution_count": null,
   "metadata": {},
   "outputs": [],
   "source": [
    "my_array = [1, 2, 3, 4, 7, 8, 9, 15, 16, 17]\n",
    "\n",
    "# turn it into numpy array\n",
    "my_array = np.array(my_array)\n",
    "\n",
    "# split my_array into groups of continous numbers, sep = 1\n",
    "# output = [[1, 2, 3, 4], [7, 8, 9], [15, 16, 17]]\n",
    "\n",
    "def split_array(my_array, sep = 1):\n",
    "    # get the difference between each number\n",
    "    diff = np.diff(my_array)\n",
    "    # get the index of the difference that is larger than sep\n",
    "    split_index = np.where(diff > sep)[0]\n",
    "    # split the array into groups\n",
    "    split_array = np.split(my_array, split_index + 1)\n",
    "    return split_array\n",
    "\n",
    "split_array(my_array)"
   ]
  },
  {
   "cell_type": "code",
   "execution_count": null,
   "metadata": {},
   "outputs": [],
   "source": [
    "import torch\n",
    "\n",
    "# test cuda\n",
    "torch.cuda.is_available()\n"
   ]
  },
  {
   "cell_type": "code",
   "execution_count": null,
   "metadata": {},
   "outputs": [],
   "source": [
    "from Libs.analyzer import *\n",
    "import pandas as pd\n",
    "\n",
    "total_csv_path = r'D:\\Code\\TowerAssayAnalyzer\\Output\\arranged_C - Mirror Biting Test - full.csv'\n",
    "\n",
    "total_df = pd.read_csv(total_csv_path)\n",
    "\n",
    "# get the first tank\n",
    "first_tank_df = total_df[['X1', 'Y1']].copy()\n",
    "\n",
    "NTT_Tank1 = NovelTankTest(first_tank_df)"
   ]
  },
  {
   "cell_type": "code",
   "execution_count": null,
   "metadata": {},
   "outputs": [],
   "source": [
    "NTT_Tank1.distance.variables(magic = False)"
   ]
  },
  {
   "attachments": {},
   "cell_type": "markdown",
   "metadata": {},
   "source": [
    "## Testing the noveltanktest class"
   ]
  },
  {
   "cell_type": "code",
   "execution_count": null,
   "metadata": {},
   "outputs": [],
   "source": [
    "from Libs.misc import load_raw_df, clean_df\n",
    "from Libs.executor import *\n",
    "\n",
    "txt_path = \"Input/Zebrafish Tower/A - Novel Tank Test/trajectories.txt\"\n",
    "df, _ = load_raw_df(txt_path)\n",
    "df, _ = clean_df(df, fill = True)\n",
    "\n",
    "display_dict = NovelTank_Display(df).rows\n",
    "\n",
    "for key, value in display_dict.items():\n",
    "    print(key, value)"
   ]
  },
  {
   "cell_type": "code",
   "execution_count": null,
   "metadata": {},
   "outputs": [],
   "source": []
  },
  {
   "attachments": {},
   "cell_type": "markdown",
   "metadata": {},
   "source": [
    "## Testing the shoalingtest class"
   ]
  },
  {
   "cell_type": "code",
   "execution_count": null,
   "metadata": {},
   "outputs": [],
   "source": [
    "from Libs.misc import load_raw_df, clean_df\n",
    "from Libs.executor import *\n",
    "\n",
    "txt_path = \"Input/Zebrafish Tower/A - Novel Tank Test/trajectories.txt\"\n",
    "whole_df, _ = load_raw_df(txt_path)\n",
    "whole_df, _ = clean_df(whole_df, fill=True)\n",
    "df1, df2, df3 = whole_df.iloc[:, :2], whole_df.iloc[:, 2:4], whole_df.iloc[:, 4:]\n",
    "\n",
    "whole_df"
   ]
  },
  {
   "cell_type": "code",
   "execution_count": null,
   "metadata": {},
   "outputs": [],
   "source": [
    "from PIL import Image\n",
    "\n",
    "im = Image.open('Bin/landing_photo.png')\n",
    "\n",
    "# crop 200px around the image\n",
    "crop_px = 400\n",
    "hor_move = 75\n",
    "ver_move = -35\n",
    "im = im.crop((crop_px+hor_move, crop_px+ver_move, im.width - crop_px+hor_move, im.height - crop_px+ver_move))\n",
    "\n",
    "# save\n",
    "im.save('Bin/landing_photo_cropped.png')\n",
    "\n",
    "im"
   ]
  },
  {
   "attachments": {},
   "cell_type": "markdown",
   "metadata": {},
   "source": [
    "# AUTO ANALYZER"
   ]
  },
  {
   "cell_type": "code",
   "execution_count": null,
   "metadata": {},
   "outputs": [],
   "source": [
    "from pathlib import Path\n",
    "from Libs.batchprocess import MY_DIR\n",
    "\n",
    "\n",
    "tests = ['Novel Tank', 'Shoaling', 'Mirror Biting', 'Social Interaction', 'Predator Avoidance']\n",
    "checks = ['novel', 'shoal', 'mirror', 'social', 'predator']\n",
    "PROJECT_DIR = r'D:\\Code\\TowerAssayAnalyzer\\Input\\OnlyTXT'\n",
    "PROJECT_DIR = Path(PROJECT_DIR)\n",
    "\n",
    "# Get all immediate subdirectories of PROJECT_DIR\n",
    "subdirectories = [x for x in PROJECT_DIR.glob(\"*/\") if x.is_dir()]\n",
    "TESTS = {}\n",
    "for subdirectory in subdirectories:\n",
    "    if checks[0] in subdirectory.name.lower():\n",
    "        TESTS[1] = MY_DIR(name=tests[0], dir_path=subdirectory)\n",
    "    elif checks[1] in subdirectory.name.lower():\n",
    "        TESTS[2] = MY_DIR(name=tests[1], dir_path=subdirectory, no_gap = True)\n",
    "    elif checks[2] in subdirectory.name.lower():\n",
    "        TESTS[3] = MY_DIR(name=tests[2], dir_path=subdirectory)\n",
    "    elif checks[3] in subdirectory.name.lower():\n",
    "        TESTS[4] = MY_DIR(name=tests[3], dir_path=subdirectory)\n",
    "    elif checks[4] in subdirectory.name.lower():\n",
    "        TESTS[5] = MY_DIR(name=tests[4], dir_path=subdirectory)\n",
    "\n",
    "# CHECK POINT 1\n",
    "if len(TESTS) == 5:\n",
    "    print('TESTS data structure loaded successfully.')\n"
   ]
  },
  {
   "cell_type": "code",
   "execution_count": null,
   "metadata": {},
   "outputs": [],
   "source": [
    "test_num = 1"
   ]
  },
  {
   "cell_type": "code",
   "execution_count": null,
   "metadata": {},
   "outputs": [],
   "source": [
    "TESTS[test_num].info()"
   ]
  },
  {
   "cell_type": "code",
   "execution_count": null,
   "metadata": {},
   "outputs": [],
   "source": [
    "TESTS[test_num].batch[1].info()"
   ]
  },
  {
   "cell_type": "code",
   "execution_count": null,
   "metadata": {},
   "outputs": [],
   "source": [
    "TESTS[test_num].batch[1].condition['A'].info()"
   ]
  },
  {
   "cell_type": "code",
   "execution_count": null,
   "metadata": {},
   "outputs": [],
   "source": [
    "result_dict_dict = []\n",
    "for k, v in TESTS[test_num].batch[1].condition['A'].targets.items():\n",
    "    print(f'Fish group {k:6} : {v.parent.name}/{v.name}')"
   ]
  },
  {
   "cell_type": "code",
   "execution_count": null,
   "metadata": {},
   "outputs": [],
   "source": [
    "fish1_path = TESTS[test_num].batch[1].condition['A'].targets['1']"
   ]
  },
  {
   "cell_type": "code",
   "execution_count": null,
   "metadata": {},
   "outputs": [],
   "source": [
    "from Libs.executor import noveltank_exec\n",
    "\n",
    "whole = noveltank_exec(fish1_path, segment = -1)\n"
   ]
  },
  {
   "cell_type": "code",
   "execution_count": null,
   "metadata": {},
   "outputs": [],
   "source": [
    "whole"
   ]
  },
  {
   "cell_type": "code",
   "execution_count": null,
   "metadata": {},
   "outputs": [],
   "source": [
    "seg = {}\n",
    "for segment in range(int(420/60)):\n",
    "    print(f\"For segment {segment*5} - {segment*5+1} MIN\")\n",
    "    seg[segment] = noveltank_exec(fish1_path, segment = segment)"
   ]
  },
  {
   "cell_type": "code",
   "execution_count": null,
   "metadata": {},
   "outputs": [],
   "source": [
    "seg[1]"
   ]
  },
  {
   "cell_type": "code",
   "execution_count": null,
   "metadata": {},
   "outputs": [],
   "source": [
    "import openpyxl\n",
    "\n",
    "file_path = r'D:\\Code\\TowerAssayAnalyzer\\Input\\OnlyTXT\\02 - Shoaling Test (Summary).xlsx'\n",
    "output_path = r'D:\\Code\\TowerAssayAnalyzer\\Input\\OnlyTXT\\merged shoal.xlsx'\n",
    "\n",
    "\n",
    "def merge_cells(file_path, col_name = 'Shoaling Area', cell_step=3, inplace = True):\n",
    "    # Load the Excel workbook\n",
    "    workbook = openpyxl.load_workbook(filename=file_path)\n",
    "\n",
    "    # Get the active worksheet\n",
    "    worksheet = workbook.active\n",
    "\n",
    "    # Find the column index for the \"Shoaling Area\" header\n",
    "    shoaling_area_col = None\n",
    "    for col_idx in range(1, worksheet.max_column+1):\n",
    "        header = worksheet.cell(row=1, column=col_idx).value\n",
    "        if header and col_name in header:\n",
    "            shoaling_area_col = col_idx\n",
    "            break\n",
    "\n",
    "    if shoaling_area_col is None:\n",
    "        print(\"Column not found.\")\n",
    "    else:\n",
    "        # Merge every next 3 rows of the Shoaling Area column\n",
    "        for row_idx in range(2, worksheet.max_row+1, cell_step):\n",
    "            value = worksheet.cell(row=row_idx, column=shoaling_area_col).value\n",
    "            print(value)\n",
    "            if value is not None:\n",
    "                # Merge the current row with the next 2 rows\n",
    "                worksheet.merge_cells(start_row=row_idx, start_column=shoaling_area_col, end_row=row_idx+2, end_column=shoaling_area_col)\n",
    "            \n",
    "            # align the merged cell, horizontal and vertical center\n",
    "            worksheet.cell(row=row_idx, column=shoaling_area_col).alignment = openpyxl.styles.Alignment(horizontal='center', vertical='center')\n",
    "        \n",
    "    # define output_path\n",
    "    if inplace == False:\n",
    "        output_path = file_path[:-5] + '_merged.xlsx'        \n",
    "    else:\n",
    "        output_path = file_path    \n",
    "\n",
    "    # Save the modified workbook\n",
    "    workbook.save(filename=output_path)"
   ]
  },
  {
   "cell_type": "code",
   "execution_count": null,
   "metadata": {},
   "outputs": [],
   "source": [
    "from pathlib import Path\n",
    "\n",
    "full_path = r'D:\\Code\\TowerAssayAnalyzer\\Input\\OnlyTXT\\03 - Mirror Biting Test\\B - 0.1 ppm (1st Batch)'\n",
    "\n",
    "condition_path = Path(full_path)\n",
    "trajectory_format = \"trajectories.txt\"\n",
    "trajectories = condition_path.glob(f'**/{trajectory_format}')\n",
    "list(trajectories)"
   ]
  },
  {
   "cell_type": "code",
   "execution_count": null,
   "metadata": {},
   "outputs": [],
   "source": [
    "from pathlib import Path\n",
    "\n",
    "def sort_paths_by_parent(paths):\n",
    "    def sort_key(path):\n",
    "        name_parts = path.parent.name.split('-')\n",
    "        if len(name_parts) >= 2:\n",
    "            try:\n",
    "                primary_key = int(name_parts[0].strip())\n",
    "            except ValueError:\n",
    "                primary_key = int(name_parts[0].strip())\n",
    "            secondary_key = int(name_parts[1].strip())\n",
    "        else:\n",
    "            primary_key = int(name_parts[0].strip())\n",
    "            secondary_key = 0\n",
    "        return (primary_key, secondary_key)\n",
    "    \n",
    "    return sorted(paths, key=sort_key)\n",
    "\n",
    "full_path = r'D:\\Code\\TowerAssayAnalyzer\\Input\\OnlyTXT\\03 - Mirror Biting Test\\B - 0.1 ppm (1st Batch)'\n",
    "condition_path = Path(full_path)\n",
    "trajectory_format = \"trajectories.txt\"\n",
    "trajectories = condition_path.glob(f'**/{trajectory_format}')\n",
    "\n",
    "sorted_trajectories = sort_paths_by_parent(trajectories)\n",
    "\n",
    "sorted_trajectories"
   ]
  },
  {
   "attachments": {},
   "cell_type": "markdown",
   "metadata": {},
   "source": []
  },
  {
   "cell_type": "code",
   "execution_count": null,
   "metadata": {},
   "outputs": [],
   "source": [
    "sorted_trajectories = sorted(list(trajectories), key=lambda p: p.parent)\n",
    "sorted_trajectories"
   ]
  },
  {
   "cell_type": "code",
   "execution_count": null,
   "metadata": {},
   "outputs": [],
   "source": [
    "from pathlib import Path\n",
    "import csv\n",
    "\n",
    "dir_path = Path(r'D:\\Code\\TowerAssayAnalyzer\\Input\\OnlyTXT')\n",
    "\n",
    "path_list = []\n",
    "\n",
    "for child_dir in dir_path.rglob('*/'):\n",
    "    if child_dir.is_dir():\n",
    "        path_list.append(child_dir.relative_to(dir_path))\n",
    "\n",
    "path_list = [str(path) for path in path_list]\n",
    "\n",
    "print(path_list)\n",
    "\n",
    "# write to .csv file\n",
    "with open('path_list.csv', 'w') as f:\n",
    "    for path in path_list:\n",
    "        f.write(\"%s %s\" % (path, '\\n'))"
   ]
  },
  {
   "cell_type": "code",
   "execution_count": null,
   "metadata": {},
   "outputs": [],
   "source": [
    "# load from .csv file\n",
    "with open('path_list.csv', 'r') as f:\n",
    "    reader = csv.reader(f)\n",
    "    path_list = list(reader)\n",
    "\n",
    "path_list = [path[0].strip() for path in path_list]\n",
    "path_list"
   ]
  },
  {
   "cell_type": "code",
   "execution_count": null,
   "metadata": {},
   "outputs": [],
   "source": [
    "\n",
    "full_path = [dir_path / Path(path) for path in path_list]\n",
    "\n",
    "full_path"
   ]
  },
  {
   "cell_type": "code",
   "execution_count": null,
   "metadata": {},
   "outputs": [],
   "source": [
    "from pathlib import Path\n",
    "import csv\n",
    "\n",
    "dir_path = Path(r'D:\\Code\\TowerAssayAnalyzer\\Input\\Test')\n",
    "\n",
    "structure_csv = 'templates/dir_structure.csv'\n",
    "\n",
    "with open(structure_csv, 'r') as f:\n",
    "    reader = csv.reader(f)\n",
    "    path_list = list(reader)\n",
    "\n",
    "path_list = [path[0].strip() for path in path_list]\n",
    "path_list"
   ]
  },
  {
   "cell_type": "code",
   "execution_count": null,
   "metadata": {},
   "outputs": [],
   "source": [
    "path_list[6].format(0.01, 'ppm', '1st')"
   ]
  },
  {
   "cell_type": "code",
   "execution_count": null,
   "metadata": {},
   "outputs": [],
   "source": [
    "from pathlib import Path\n",
    "import json\n",
    "\n",
    "dir_path = Path(r'D:\\Code\\TowerAssayAnalyzer\\Input\\Test')\n",
    "\n",
    "structure_json = 'templates/dir_structure.json'\n",
    "\n",
    "with open(structure_json, 'r') as f:\n",
    "    path_dict = json.load(f)\n",
    "\n",
    "for path in path_dict['Parent']:\n",
    "    print(path)"
   ]
  },
  {
   "cell_type": "code",
   "execution_count": null,
   "metadata": {},
   "outputs": [],
   "source": [
    "for path in path_dict['Child-Control']:\n",
    "    print(path.format('1st'))"
   ]
  },
  {
   "cell_type": "code",
   "execution_count": null,
   "metadata": {},
   "outputs": [],
   "source": [
    "class PROJECT():\n",
    "\n",
    "    def __init__(self, name):\n",
    "\n",
    "        self.name = name\n",
    "        if self.name == \"\":\n",
    "            self.status = False\n",
    "        else:\n",
    "            self.status = True\n",
    "\n",
    "    def give_name(self, name):\n",
    "        self.name = name\n",
    "        self.status = True\n",
    "\n",
    "    def info(self):\n",
    "        for key, value in self.__dict__.items():\n",
    "            print(f\"{key} : {value}\")\n",
    "        "
   ]
  },
  {
   "cell_type": "code",
   "execution_count": null,
   "metadata": {},
   "outputs": [],
   "source": [
    "project = PROJECT(\"\")\n",
    "project.status"
   ]
  },
  {
   "cell_type": "code",
   "execution_count": null,
   "metadata": {},
   "outputs": [],
   "source": [
    "project.give_name(\"test\")\n",
    "project.status"
   ]
  },
  {
   "cell_type": "code",
   "execution_count": null,
   "metadata": {},
   "outputs": [],
   "source": []
  },
  {
   "cell_type": "code",
   "execution_count": null,
   "metadata": {},
   "outputs": [],
   "source": [
    "project.dir = r'D:\\Code\\TowerAssayAnalyzer\\Input\\Test'\n",
    "project.dir"
   ]
  },
  {
   "cell_type": "code",
   "execution_count": null,
   "metadata": {},
   "outputs": [],
   "source": [
    "project.get_info()"
   ]
  },
  {
   "cell_type": "code",
   "execution_count": null,
   "metadata": {},
   "outputs": [],
   "source": [
    "treatment_symbols = [chr(i) for i in range(65, 65+26)]\n",
    "treatment_symbols"
   ]
  },
  {
   "cell_type": "code",
   "execution_count": null,
   "metadata": {},
   "outputs": [],
   "source": [
    "HISTORY_PATH = \"History/projects.json\"\n",
    "ORDINALS = ['1st', '2nd', '3rd', '4th', '5th', '6th', '7th', '8th', '9th']\n",
    "CURRENT_PROJECT = \"Melamine\"\n",
    "batch_num = 1\n",
    "TESTLIST = ['Novel Tank Test', \n",
    "                    'Shoaling Test', \n",
    "                    'Mirror Biting Test',\n",
    "                    'Social Interaction Test',\n",
    "                    'Predator Avoidance Test']\n",
    "\n",
    "# turn batch_num into ordinal\n",
    "batch = ORDINALS[int(batch_num)-1]\n",
    "\n",
    "# change number 2 into B, using mathematically\n",
    "\n",
    "with open(HISTORY_PATH, \"r\") as file:\n",
    "    projects_data = json.load(file)\n",
    "\n",
    "treatments = projects_data[CURRENT_PROJECT][\"TREATMENTS\"]\n",
    "\n",
    "all_paths = {}\n",
    "\n",
    "all_paths['Parent'] = []\n",
    "for i, test in enumerate(TESTLIST):\n",
    "    temp = f\"0{i+1} - {test}\"\n",
    "    all_paths['Parent'].append(temp)\n",
    "\n",
    "tail = f\"A - Control ({batch} Batch)\"\n",
    "all_paths['Child-A'] = [f\"{parent}\\\\{tail}\" for parent in all_paths['Parent']]\n",
    "\n",
    "for k, v in treatments.items():\n",
    "    if k == \"Treatment A\":\n",
    "        continue\n",
    "    char = k.split()[1]\n",
    "    tail = f\"{char} - {v[1]} {v[2]} ({batch} Batch)\"\n",
    "    all_paths[f\"Child-{char}\"] = [f\"{parent}\\\\{tail}\" for parent in all_paths['Parent']]\n",
    "\n",
    "all_paths"
   ]
  },
  {
   "cell_type": "code",
   "execution_count": null,
   "metadata": {},
   "outputs": [],
   "source": [
    "for v in all_paths['Child-A']:\n",
    "    print(v)"
   ]
  },
  {
   "cell_type": "code",
   "execution_count": null,
   "metadata": {},
   "outputs": [],
   "source": [
    "HISTORY_PATH = \"History/projects.json\"\n",
    "ORDINALS = ['1st', '2nd', '3rd', '4th', '5th', '6th', '7th', '8th', '9th']\n",
    "CURRENT_PROJECT = \"Melamine\"\n",
    "batch_num = 1\n",
    "TESTLIST = ['Novel Tank Test', \n",
    "                    'Shoaling Test', \n",
    "                    'Mirror Biting Test',\n",
    "                    'Social Interaction Test',\n",
    "                    'Predator Avoidance Test']\n",
    "\n",
    "# turn batch_num into ordinal\n",
    "batch = ORDINALS[int(batch_num)-1]\n",
    "\n",
    "# change number 2 into B, using mathematically\n",
    "\n",
    "with open(HISTORY_PATH, \"r\") as file:\n",
    "    projects_data = json.load(file)\n",
    "\n",
    "treatments = projects_data[CURRENT_PROJECT][\"TREATMENTS\"]\n",
    "\n",
    "all_paths = {}\n",
    "\n",
    "all_paths['Parent'] = []\n",
    "for i, test in enumerate(TESTLIST):\n",
    "    temp = f\"0{i+1} - {test}\"\n",
    "    all_paths['Parent'].append(temp)\n"
   ]
  },
  {
   "cell_type": "code",
   "execution_count": null,
   "metadata": {},
   "outputs": [],
   "source": [
    "\n",
    "normal_parents = []\n",
    "group_parents = []\n",
    "for path in all_paths['Parent']:\n",
    "    if \"Shoaling\" in path:\n",
    "        group_parents.append(path)\n",
    "    else:\n",
    "        normal_parents.append(path)\n",
    "\n",
    "normal_parents, group_parents"
   ]
  },
  {
   "cell_type": "code",
   "execution_count": null,
   "metadata": {},
   "outputs": [],
   "source": [
    "\n",
    "for k, v in treatments.items():\n",
    "    char = k.split()[1]\n",
    "    print(char)\n",
    "    if char == \"A\":\n",
    "        tail = f\"A - Control ({batch} Batch)\"\n",
    "    else:\n",
    "        tail = f\"{char} - {v[1]} {v[2]} ({batch} Batch)\"\n",
    "\n",
    "    fish_num = int(v[3])\n",
    "    all_paths[f\"Child-{char}\"] = [f\"{parent}\\\\{tail}\" for parent in all_paths['Parent']]\n",
    "    for i in range(1, fish_num+1):\n",
    "        all_paths[f\"Child-{char}\"].extend([f\"{parent}\\\\{tail}\\\\{i}\" for parent in normal_parents])\n",
    "    fish_group = fish_num // 3\n",
    "    for i in range(1, fish_group+1):\n",
    "        all_paths[f\"Child-{char}\"].extend([f\"{parent}\\\\{tail}\\\\{i}\" for parent in group_parents])\n",
    "\n",
    "\n",
    "all_paths"
   ]
  },
  {
   "cell_type": "code",
   "execution_count": null,
   "metadata": {},
   "outputs": [],
   "source": [
    "example_dict = {\n",
    "    (1, 2) : 2,\n",
    "    (4, 10) : 7\n",
    "}\n",
    "\n",
    "list(example_dict.keys())[0][0]"
   ]
  },
  {
   "cell_type": "code",
   "execution_count": 15,
   "metadata": {},
   "outputs": [],
   "source": [
    "from Libs.analyzer import NovelTankTest\n",
    "from Libs.executor import NovelTank_Display\n",
    "from Libs.misc import get_file_path, load_raw_df, clean_df\n",
    "import os\n",
    "\n",
    "# file_type = [('Text File', '*.txt')]\n",
    "# default_dir = 'Input'\n",
    "# txt_path = get_file_path(file_type, default_dir)\n",
    "txt_path = r'D:/TestSave/MelamineTest/01 - Novel Tank Test/A - Control (1st Batch)/1/trajectories.txt'\n",
    "raw_df, tanks_list = load_raw_df(txt_path)\n",
    "raw_df, _ = clean_df(raw_df, fill = True)\n",
    "\n",
    "seg_num = len(raw_df) // 3000\n"
   ]
  },
  {
   "cell_type": "code",
   "execution_count": 17,
   "metadata": {},
   "outputs": [
    {
     "name": "stdout",
     "output_type": "stream",
     "text": [
      "Fish Number:  1\n",
      "{'distance in top': 43.432799393071996, 'top/bottom ratio': 0.13851992409867173, 'distance top/bottom ratio': 0.15839612942291195, 'latency in frames': 284, 'latency in seconds': 5.68, 'entry number': 9, 'average entry': 0.8111111111111111}\n",
      "{0: ['Total Distance', 317.6364655515296, 'cm'], 1: ['Average Speed', 5.29570632796814, 'cm/s'], 2: ['Freezing Percentage', 4.668222740913638, '%'], 3: ['Swimming Percentage', 87.29576525508503, '%'], 4: ['Rapid Movement Percentage', 8.036012004001334, '%'], 5: ['Average distance to center', 7.0136, 'cm'], 6: ['Time in top', 12.166666666666668, '%'], 7: ['Time in bottom', 87.83333333333333, '%'], 8: ['Time spent in top/bottom ratio', 0.13851992409867173, ''], 9: ['Distance traveled in top', 43.432799393071996, 'cm'], 10: ['Distance traveled top/bottom ratio', 0.15839612942291195, ''], 11: ['Latency in frames', 284, 'frames'], 12: ['Latency in seconds', 5.68, 'seconds'], 13: ['Number of entries', 9, ''], 14: ['Average entry', 0.8111111111111111, 'seconds']}\n",
      "Fish Number:  2\n",
      "{'distance in top': 0, 'top/bottom ratio': 0.0, 'distance top/bottom ratio': 0.0, 'latency in frames': 3000, 'latency in seconds': 60.0, 'entry number': 0, 'average entry': 0}\n",
      "{0: ['Total Distance', 244.7236344846947, 'cm'], 1: ['Average Speed', 4.0800872705017435, 'cm/s'], 2: ['Freezing Percentage', 4.3347782594198065, '%'], 3: ['Swimming Percentage', 95.4318106035345, '%'], 4: ['Rapid Movement Percentage', 0.23341113704568192, '%'], 5: ['Average distance to center', 2.9688, 'cm'], 6: ['Time in top', 0.0, '%'], 7: ['Time in bottom', 100.0, '%'], 8: ['Time spent in top/bottom ratio', 0.0, ''], 9: ['Distance traveled in top', 0, 'cm'], 10: ['Distance traveled top/bottom ratio', 0.0, ''], 11: ['Latency in frames', 3000, 'frames'], 12: ['Latency in seconds', 60.0, 'seconds'], 13: ['Number of entries', 0, ''], 14: ['Average entry', 0, 'seconds']}\n",
      "Fish Number:  3\n",
      "{'distance in top': 0, 'top/bottom ratio': 0.0, 'distance top/bottom ratio': 0.0, 'latency in frames': 3000, 'latency in seconds': 60.0, 'entry number': 0, 'average entry': 0}\n",
      "{0: ['Total Distance', 192.67026693969305, 'cm'], 1: ['Average Speed', 3.212241862949197, 'cm/s'], 2: ['Freezing Percentage', 11.037012337445816, '%'], 3: ['Swimming Percentage', 88.42947649216406, '%'], 4: ['Rapid Movement Percentage', 0.53351117039013, '%'], 5: ['Average distance to center', 4.2096, 'cm'], 6: ['Time in top', 0.0, '%'], 7: ['Time in bottom', 100.0, '%'], 8: ['Time spent in top/bottom ratio', 0.0, ''], 9: ['Distance traveled in top', 0, 'cm'], 10: ['Distance traveled top/bottom ratio', 0.0, ''], 11: ['Latency in frames', 3000, 'frames'], 12: ['Latency in seconds', 60.0, 'seconds'], 13: ['Number of entries', 0, ''], 14: ['Average entry', 0, 'seconds']}\n",
      "Fish Number:  4\n",
      "{'distance in top': 0, 'top/bottom ratio': 0.0, 'distance top/bottom ratio': 0.0, 'latency in frames': 3000, 'latency in seconds': 60.0, 'entry number': 0, 'average entry': 0}\n",
      "{0: ['Total Distance', 145.90363823688097, 'cm'], 1: ['Average Speed', 2.432538149998014, 'cm/s'], 2: ['Freezing Percentage', 22.64088029343114, '%'], 3: ['Swimming Percentage', 76.99233077692564, '%'], 4: ['Rapid Movement Percentage', 0.3667889296432144, '%'], 5: ['Average distance to center', 3.8606, 'cm'], 6: ['Time in top', 0.0, '%'], 7: ['Time in bottom', 100.0, '%'], 8: ['Time spent in top/bottom ratio', 0.0, ''], 9: ['Distance traveled in top', 0, 'cm'], 10: ['Distance traveled top/bottom ratio', 0.0, ''], 11: ['Latency in frames', 3000, 'frames'], 12: ['Latency in seconds', 60.0, 'seconds'], 13: ['Number of entries', 0, ''], 14: ['Average entry', 0, 'seconds']}\n",
      "Fish Number:  5\n",
      "{'distance in top': 91.34745296151415, 'top/bottom ratio': 0.4955134596211366, 'distance top/bottom ratio': 0.5127299803812989, 'latency in frames': 351, 'latency in seconds': 7.02, 'entry number': 7, 'average entry': 2.84}\n",
      "{0: ['Total Distance', 269.50643811307935, 'cm'], 1: ['Average Speed', 4.49327172579325, 'cm/s'], 2: ['Freezing Percentage', 8.302767589196398, '%'], 3: ['Swimming Percentage', 87.1623874624875, '%'], 4: ['Rapid Movement Percentage', 4.534844948316105, '%'], 5: ['Average distance to center', 3.1748, 'cm'], 6: ['Time in top', 33.13333333333333, '%'], 7: ['Time in bottom', 66.86666666666667, '%'], 8: ['Time spent in top/bottom ratio', 0.4955134596211366, ''], 9: ['Distance traveled in top', 91.34745296151415, 'cm'], 10: ['Distance traveled top/bottom ratio', 0.5127299803812989, ''], 11: ['Latency in frames', 351, 'frames'], 12: ['Latency in seconds', 7.02, 'seconds'], 13: ['Number of entries', 7, ''], 14: ['Average entry', 2.84, 'seconds']}\n",
      "Fish Number:  6\n",
      "{'distance in top': 29.087490953490413, 'top/bottom ratio': 0.11317254174397032, 'distance top/bottom ratio': 0.11906933488629433, 'latency in frames': 1544, 'latency in seconds': 30.88, 'entry number': 2, 'average entry': 3.05}\n",
      "{0: ['Total Distance', 273.37785321399696, 'cm'], 1: ['Average Speed', 4.557816825841896, 'cm/s'], 2: ['Freezing Percentage', 4.4014671557185725, '%'], 3: ['Swimming Percentage', 93.39779926642214, '%'], 4: ['Rapid Movement Percentage', 2.2007335778592862, '%'], 5: ['Average distance to center', 4.0845, 'cm'], 6: ['Time in top', 10.166666666666666, '%'], 7: ['Time in bottom', 89.83333333333333, '%'], 8: ['Time spent in top/bottom ratio', 0.11317254174397032, ''], 9: ['Distance traveled in top', 29.087490953490413, 'cm'], 10: ['Distance traveled top/bottom ratio', 0.11906933488629433, ''], 11: ['Latency in frames', 1544, 'frames'], 12: ['Latency in seconds', 30.88, 'seconds'], 13: ['Number of entries', 2, ''], 14: ['Average entry', 3.05, 'seconds']}\n",
      "Fish Number:  7\n",
      "{'distance in top': 0, 'top/bottom ratio': 0.0, 'distance top/bottom ratio': 0.0, 'latency in frames': 3000, 'latency in seconds': 60.0, 'entry number': 0, 'average entry': 0}\n",
      "{0: ['Total Distance', 203.80958157666115, 'cm'], 1: ['Average Speed', 3.397959012615221, 'cm/s'], 2: ['Freezing Percentage', 16.93897965988663, '%'], 3: ['Swimming Percentage', 79.8266088696232, '%'], 4: ['Rapid Movement Percentage', 3.234411470490164, '%'], 5: ['Average distance to center', 3.693, 'cm'], 6: ['Time in top', 0.0, '%'], 7: ['Time in bottom', 100.0, '%'], 8: ['Time spent in top/bottom ratio', 0.0, ''], 9: ['Distance traveled in top', 0, 'cm'], 10: ['Distance traveled top/bottom ratio', 0.0, ''], 11: ['Latency in frames', 3000, 'frames'], 12: ['Latency in seconds', 60.0, 'seconds'], 13: ['Number of entries', 0, ''], 14: ['Average entry', 0, 'seconds']}\n",
      "Fish Number:  8\n",
      "{'distance in top': 0, 'top/bottom ratio': 0.0, 'distance top/bottom ratio': 0.0, 'latency in frames': 3000, 'latency in seconds': 60.0, 'entry number': 0, 'average entry': 0}\n",
      "{0: ['Total Distance', 264.60197091303485, 'cm'], 1: ['Average Speed', 4.411503349667139, 'cm/s'], 2: ['Freezing Percentage', 5.535178392797599, '%'], 3: ['Swimming Percentage', 90.09669889963321, '%'], 4: ['Rapid Movement Percentage', 4.36812270756919, '%'], 5: ['Average distance to center', 5.6123, 'cm'], 6: ['Time in top', 0.0, '%'], 7: ['Time in bottom', 100.0, '%'], 8: ['Time spent in top/bottom ratio', 0.0, ''], 9: ['Distance traveled in top', 0, 'cm'], 10: ['Distance traveled top/bottom ratio', 0.0, ''], 11: ['Latency in frames', 3000, 'frames'], 12: ['Latency in seconds', 60.0, 'seconds'], 13: ['Number of entries', 0, ''], 14: ['Average entry', 0, 'seconds']}\n",
      "Fish Number:  9\n",
      "{'distance in top': 136.82460441697927, 'top/bottom ratio': 2.9682539682539684, 'distance top/bottom ratio': 3.0595345986768385, 'latency in frames': 1, 'latency in seconds': 0.02, 'entry number': 3, 'average entry': 14.96}\n",
      "{0: ['Total Distance', 181.54532909064434, 'cm'], 1: ['Average Speed', 3.0267644063128447, 'cm/s'], 2: ['Freezing Percentage', 12.570856952317438, '%'], 3: ['Swimming Percentage', 86.69556518839613, '%'], 4: ['Rapid Movement Percentage', 0.7335778592864288, '%'], 5: ['Average distance to center', 5.6592, 'cm'], 6: ['Time in top', 74.8, '%'], 7: ['Time in bottom', 25.200000000000003, '%'], 8: ['Time spent in top/bottom ratio', 2.9682539682539684, ''], 9: ['Distance traveled in top', 136.82460441697927, 'cm'], 10: ['Distance traveled top/bottom ratio', 3.0595345986768385, ''], 11: ['Latency in frames', 1, 'frames'], 12: ['Latency in seconds', 0.02, 'seconds'], 13: ['Number of entries', 3, ''], 14: ['Average entry', 14.96, 'seconds']}\n"
     ]
    }
   ],
   "source": [
    "for num in range(1, 10):\n",
    "    fish_num = str(num)\n",
    "    txt_path = os.path.join(r\"D:/TestSave/MelamineTest/01 - Novel Tank Test/A - Control (1st Batch)\", fish_num, \"trajectories.txt\")\n",
    "    raw_df, tanks_list = load_raw_df(txt_path)\n",
    "    raw_df, _ = clean_df(raw_df, fill = True)\n",
    "    test = NovelTankTest(input_df = raw_df, project_hyp = {}, fish_num = fish_num, segment = 0)\n",
    "    display = NovelTank_Display(input_df = raw_df, project_hyp = {}, fish_num = fish_num, segment = 0)\n",
    "    print(\"Fish Number: \", fish_num)\n",
    "    print(test.others)\n",
    "    print(display.rows)\n",
    "\n"
   ]
  },
  {
   "cell_type": "code",
   "execution_count": null,
   "metadata": {},
   "outputs": [],
   "source": [
    "1896/86=22.069767441860465\n",
    "\n",
    "1004/42=23.80952380952381\n",
    "223/11=20.272727272727273\n",
    "\n",
    "\n"
   ]
  },
  {
   "cell_type": "code",
   "execution_count": 7,
   "metadata": {},
   "outputs": [
    {
     "data": {
      "text/plain": [
       "{197.7}"
      ]
     },
     "execution_count": 7,
     "metadata": {},
     "output_type": "execute_result"
    }
   ],
   "source": [
    "#make empty set\n",
    "# add value 197.7 to set\n",
    "\n",
    "empty_set = set()\n",
    "empty_set.add(197.7)\n",
    "\n",
    "empty_set"
   ]
  },
  {
   "cell_type": "code",
   "execution_count": 8,
   "metadata": {},
   "outputs": [
    {
     "data": {
      "text/plain": [
       "197.7"
      ]
     },
     "execution_count": 8,
     "metadata": {},
     "output_type": "execute_result"
    }
   ],
   "source": [
    "# get value from set\n",
    "value = empty_set.pop()\n",
    "value"
   ]
  },
  {
   "cell_type": "code",
   "execution_count": 7,
   "metadata": {},
   "outputs": [
    {
     "data": {
      "text/plain": [
       "{'A': 1, 'B': 2, 'C': 3, 'D': 0, 'E': 0}"
      ]
     },
     "execution_count": 7,
     "metadata": {},
     "output_type": "execute_result"
    }
   ],
   "source": [
    "value = {\n",
    "    \"A\" : 1,\n",
    "    \"B\" : 2,\n",
    "    \"C\" : 3\n",
    "}\n",
    "\n",
    "desired_key_num = 5\n",
    "\n",
    "# if number of keys is less than desired key number, add new key with default value = 0 until number of keys is equal to desired key number\n",
    "# if number of keys is greater than desired key number, remove last key until number of keys is equal to desired key number\n",
    "# if number of keys is equal to desired key number, do nothing\n",
    "\n",
    "if len(value) < desired_key_num:\n",
    "    # check type of value.values(), if it is a list, new_value = [0,0], else new_value = 0\n",
    "    if type(list(value.values())[0]) == list:\n",
    "        default_value = [0,0]\n",
    "    else:\n",
    "        default_value = 0\n",
    "    while len(value) < desired_key_num:\n",
    "        value[chr(len(value)+65)] = default_value\n",
    "elif len(value) > desired_key_num:\n",
    "    while len(value) > desired_key_num:\n",
    "        value.popitem()\n",
    "else:\n",
    "    pass\n",
    "\n",
    "value"
   ]
  },
  {
   "cell_type": "code",
   "execution_count": 5,
   "metadata": {},
   "outputs": [
    {
     "data": {
      "text/plain": [
       "{'A': 1, 'B': 2}"
      ]
     },
     "execution_count": 5,
     "metadata": {},
     "output_type": "execute_result"
    }
   ],
   "source": []
  },
  {
   "cell_type": "code",
   "execution_count": 8,
   "metadata": {},
   "outputs": [
    {
     "ename": "ValueError",
     "evalue": "invalid literal for int() with base 10: '60.0'",
     "output_type": "error",
     "traceback": [
      "\u001b[1;31m---------------------------------------------------------------------------\u001b[0m",
      "\u001b[1;31mValueError\u001b[0m                                Traceback (most recent call last)",
      "\u001b[1;32md:\\Code\\TowerAssayAnalyzer\\test.ipynb Cell 84\u001b[0m in \u001b[0;36m1\n\u001b[1;32m----> <a href='vscode-notebook-cell:/d%3A/Code/TowerAssayAnalyzer/test.ipynb#Y146sZmlsZQ%3D%3D?line=0'>1</a>\u001b[0m \u001b[39mint\u001b[39;49m(\u001b[39m\"\u001b[39;49m\u001b[39m60.0\u001b[39;49m\u001b[39m\"\u001b[39;49m)\n",
      "\u001b[1;31mValueError\u001b[0m: invalid literal for int() with base 10: '60.0'"
     ]
    }
   ],
   "source": [
    "int(\"60.0\")"
   ]
  },
  {
   "cell_type": "code",
   "execution_count": 4,
   "metadata": {},
   "outputs": [
    {
     "data": {
      "image/png": "[encoded data removed]",
      "text/plain": [
       "<Figure size 640x480 with 1 Axes>"
      ]
     },
     "metadata": {},
     "output_type": "display_data"
    }
   ],
   "source": [
    "import numpy as np\n",
    "import matplotlib.pyplot as plt\n",
    "from mpl_toolkits.mplot3d import Axes3D\n",
    "\n",
    "def plot_fish_movement(set1, set2, theta, tank_x_size=None, tank_y_size=None, tank_z_size=None):\n",
    "    x1, y1 = set1\n",
    "    x_mirrored, y_mirrored = set2\n",
    "    \n",
    "    # Calculate actual z and x coordinates from the mirrored coordinates\n",
    "    z2 = y_mirrored * np.sin(np.radians(theta)) / (2 * np.sin(np.radians(90 - theta)))\n",
    "    x2 = x_mirrored - z2 * np.tan(np.radians(theta))\n",
    "    \n",
    "    # Combine both sets of coordinates\n",
    "    x = np.concatenate((x1, x2))\n",
    "    y = np.concatenate((y1, y1))  # Assuming y-axis values are the same for both sets\n",
    "    z = np.concatenate((np.zeros_like(z2), z2))\n",
    "    \n",
    "    # Calculate tank size if not provided\n",
    "    if tank_x_size is None:\n",
    "        tank_x_size = max(x)*1.5\n",
    "    if tank_y_size is None:\n",
    "        tank_y_size = max(y)*1.5\n",
    "    if tank_z_size is None:\n",
    "        tank_z_size = max(z)*1.5\n",
    "    \n",
    "    # Create a 3D plot\n",
    "    fig = plt.figure()\n",
    "    ax = fig.add_subplot(111, projection='3d')\n",
    "    ax.plot(x, y, z)\n",
    "    \n",
    "    # Set the axis limits\n",
    "    ax.set_xlim(0, tank_x_size)\n",
    "    ax.set_ylim(0, tank_y_size)\n",
    "    ax.set_zlim(0, tank_z_size)\n",
    "    \n",
    "    # Set axis labels\n",
    "    ax.set_xlabel('X-axis')\n",
    "    ax.set_ylabel('Y-axis')\n",
    "    ax.set_zlabel('Z-axis')\n",
    "    \n",
    "    # Show the plot\n",
    "    plt.show()\n",
    "\n",
    "# Example usage\n",
    "set1 = (np.array([0, 1, 2]), np.array([0, 2, 1]))\n",
    "set2 = (np.array([0, 1, 2]), np.array([3, 4, 5]))\n",
    "theta = 15\n",
    "\n",
    "plot_fish_movement(set1, set2, theta)\n"
   ]
  },
  {
   "cell_type": "code",
   "execution_count": 1,
   "metadata": {},
   "outputs": [],
   "source": [
    "from Libs.misc import hyploader\n",
    "\n",
    "hyp_path = \"Bin\\hyp_mirror.json\"\n",
    "\n",
    "data = hyploader(hyp_path)"
   ]
  },
  {
   "cell_type": "code",
   "execution_count": 2,
   "metadata": {},
   "outputs": [
    {
     "data": {
      "text/plain": [
       "{'FPS': 50,\n",
       " 'DURATION': 300,\n",
       " 'CONVERSION RATE': 12.1519,\n",
       " 'ZONE WIDTH': 4,\n",
       " 'MIRROR': {'1': [407, 0],\n",
       "  '2': [402, 0],\n",
       "  '3': [397, 0],\n",
       "  '4': [397, 0],\n",
       "  '5': [403, 0],\n",
       "  '6': [341, 1],\n",
       "  '7': [338, 1],\n",
       "  '8': [337, 1],\n",
       "  '9': [333, 1],\n",
       "  '10': [331, 1]},\n",
       " 'MIRROR ZONE': {'1': [455.6076, 0],\n",
       "  '2': [450.6076, 0],\n",
       "  '3': [445.6076, 0],\n",
       "  '4': [445.6076, 0],\n",
       "  '5': [451.6076, 0],\n",
       "  '6': [292.3924, 1],\n",
       "  '7': [289.3924, 1],\n",
       "  '8': [288.3924, 1],\n",
       "  '9': [284.3924, 1],\n",
       "  '10': [282.3924, 1]}}"
      ]
     },
     "execution_count": 2,
     "metadata": {},
     "output_type": "execute_result"
    }
   ],
   "source": [
    "data"
   ]
  },
  {
   "cell_type": "code",
   "execution_count": 8,
   "metadata": {},
   "outputs": [
    {
     "data": {
      "text/plain": [
       "WindowsPath('D:/Code/TowerAssayAnalyzer/Input/Melamine')"
      ]
     },
     "execution_count": 8,
     "metadata": {},
     "output_type": "execute_result"
    }
   ],
   "source": [
    "from pathlib import Path\n",
    "\n",
    "ori_dir = Path(\"Input/Melamine\")\n",
    "\n",
    "# get the full path of ori_dir\n",
    "\n",
    "ori_full = ori_dir.resolve()\n",
    "ori_full"
   ]
  },
  {
   "cell_type": "code",
   "execution_count": 17,
   "metadata": {},
   "outputs": [],
   "source": [
    "char_list = [chr(i) for i in range(65, 91)]\n",
    "# Find all .txt files within the project directory\n",
    "txt_files = ori_dir.glob(\"**/*.txt\")\n",
    "\n",
    "# change all paths in txt_files to fullpath\n",
    "txt_paths = [txt_file.resolve() for txt_file in txt_files]\n",
    "\n",
    "\n",
    "\n",
    "def check_grandparent_format(txt_path, batch_num):\n",
    "    # check if the grandparent folder of txt_path is in the format of \"A - Control (1st Batch)\"\n",
    "    # if yes, return True, else return False\n",
    "\n",
    "    grandparent = txt_path.parent.parent.name\n",
    "    sign = grandparent.split(\"-\")[0].strip()\n",
    "    treatment = grandparent.split(\"-\")[1].strip()\n",
    "    batch_ord = treatment.split(\"(\")[1].split(\" \")[0].strip()\n",
    "    # change ordinal to number, 1st -> 1\n",
    "    if batch_num != int(batch_ord[:-2]):\n",
    "        return None\n",
    "    if sign not in char_list:\n",
    "        # change it from number to letter, 1 -> A\n",
    "        sign = chr(int(sign) + 64)\n",
    "    \n",
    "    return f\"{sign} - {treatment}\"\n",
    "\n",
    "def check_test(txt_path):\n",
    "    # check if any word in name_dict.keys() is in str(txt_path).lower()\n",
    "    # if yes then construct a name based on the found name\n",
    "    name_dict = {\n",
    "        \"novel tank\" : \"01 - Novel Tank Test\",\n",
    "        \"shoaling\" : \"02 - Shoaling Test\",\n",
    "        \"mirror\" : \"03 - Mirror Test\",\n",
    "        \"social\" : \"04 - Social Interaction Test\",\n",
    "        \"predator\" : \"05 - Predator Test\"\n",
    "    }\n",
    "\n",
    "    for key in name_dict.keys():\n",
    "        if key in str(txt_path).lower():\n",
    "            return name_dict[key]"
   ]
  },
  {
   "cell_type": "code",
   "execution_count": 21,
   "metadata": {},
   "outputs": [
    {
     "data": {
      "text/plain": [
       "WindowsPath('D:/TestSave/M2/01 - Novel Tank Test/A - Control (1st Batch)/1/trajectories.txt')"
      ]
     },
     "execution_count": 21,
     "metadata": {},
     "output_type": "execute_result"
    }
   ],
   "source": [
    "def get_project_path(txt_path, project_dir, batch_num):\n",
    "    gparents = check_grandparent_format(txt_path, batch_num)\n",
    "    if gparents == None:\n",
    "        return None\n",
    "    # if the txt_path contain \"novel tank\"\n",
    "    ancestors = Path(check_test(txt_path)) / Path(gparents)\n",
    "    # get the parent and name of txt_path\n",
    "    parent = txt_path.parent.name\n",
    "    file = txt_path.name\n",
    "    return project_dir / ancestors / parent / file\n",
    "\n",
    "project_dir = Path(r\"D:\\TestSave\\M2\")\n",
    "\n",
    "get_project_path(txt_paths[0], project_dir)"
   ]
  },
  {
   "cell_type": "code",
   "execution_count": 1,
   "metadata": {},
   "outputs": [
    {
     "data": {
      "text/plain": [
       "0"
      ]
     },
     "execution_count": 1,
     "metadata": {},
     "output_type": "execute_result"
    }
   ],
   "source": [
    "8//10"
   ]
  },
  {
   "cell_type": "code",
   "execution_count": 4,
   "metadata": {},
   "outputs": [
    {
     "data": {
      "text/plain": [
       "20"
      ]
     },
     "execution_count": 4,
     "metadata": {},
     "output_type": "execute_result"
    }
   ],
   "source": [
    "\n",
    "def find_end_row(last_row, cell_step = 10):\n",
    "    return (((last_row-2)//cell_step)+1)*cell_step\n",
    "\n",
    "find_end_row(12)"
   ]
  },
  {
   "cell_type": "code",
   "execution_count": 3,
   "metadata": {},
   "outputs": [
    {
     "data": {
      "text/plain": [
       "True"
      ]
     },
     "execution_count": 3,
     "metadata": {},
     "output_type": "execute_result"
    }
   ],
   "source": [
    "30 % 11 == 8"
   ]
  },
  {
   "cell_type": "code",
   "execution_count": 5,
   "metadata": {},
   "outputs": [
    {
     "data": {
      "text/plain": [
       "1"
      ]
     },
     "execution_count": 5,
     "metadata": {},
     "output_type": "execute_result"
    }
   ],
   "source": [
    "a // 30 == 1 and a % 30 == 0\n",
    "a = 30"
   ]
  },
  {
   "cell_type": "code",
   "execution_count": null,
   "metadata": {},
   "outputs": [],
   "source": [
    "from Libs.misc import count_batch\n",
    "\n",
    "tests = ['Novel Tank', 'Shoaling', 'Mirror Biting', 'Social Interaction', 'Predator Avoidance']\n",
    "keywords = [x.split(' ')[0].lower() for x in tests]\n",
    "EXCEL_NAMES = [f\"0{i+1} - {tests[i]} Test (Summary).xlsx\" for i in range(len(tests))]\n",
    "\n",
    "PROJECT_DIR = Path(r\"D:\\TestSave\\M2\")\n",
    "\n",
    "test_num = 0\n",
    "excel_name = EXCEL_NAMES[test_num]\n",
    "excel_path = PROJECT_DIR / excel_name\n",
    "\n"
   ]
  },
  {
   "cell_type": "code",
   "execution_count": 1,
   "metadata": {},
   "outputs": [
    {
     "data": {
      "text/plain": [
       "'.exe'"
      ]
     },
     "execution_count": 1,
     "metadata": {},
     "output_type": "execute_result"
    }
   ],
   "source": [
    "from pathlib import Path\n",
    "\n",
    "\n",
    "file_path = Path(\"ABC/abc.exe\")\n",
    "\n",
    "file_path.suffix"
   ]
  },
  {
   "cell_type": "code",
   "execution_count": 5,
   "metadata": {},
   "outputs": [
    {
     "data": {
      "text/plain": [
       "31"
      ]
     },
     "execution_count": 5,
     "metadata": {},
     "output_type": "execute_result"
    }
   ],
   "source": [
    "import openpyxl\n",
    "import os\n",
    "\n",
    "path = r\"D:\\TestSave\\Mel\\01 - Novel Tank Test (Summary).xlsx\"\n",
    "\n",
    "wb = openpyxl.load_workbook(path)\n",
    "\n",
    "ws = wb.active\n",
    "\n",
    "ws.max_row\n"
   ]
  },
  {
   "cell_type": "code",
   "execution_count": 6,
   "metadata": {},
   "outputs": [
    {
     "data": {
      "text/plain": [
       "False"
      ]
     },
     "execution_count": 6,
     "metadata": {},
     "output_type": "execute_result"
    }
   ],
   "source": [
    "300.1 - 300 == 0.0"
   ]
  },
  {
   "cell_type": "code",
   "execution_count": 6,
   "metadata": {},
   "outputs": [
    {
     "data": {
      "text/plain": [
       "'10th'"
      ]
     },
     "execution_count": 6,
     "metadata": {},
     "output_type": "execute_result"
    }
   ],
   "source": [
    "from num2words import num2words\n",
    "\n",
    "num2words(10, to='ordinal_num')"
   ]
  },
  {
   "cell_type": "code",
   "execution_count": 12,
   "metadata": {},
   "outputs": [
    {
     "ename": "AttributeError",
     "evalue": "module 'word2number.w2n' has no attribute 'ordinal_to_num'",
     "output_type": "error",
     "traceback": [
      "\u001b[1;31m---------------------------------------------------------------------------\u001b[0m",
      "\u001b[1;31mAttributeError\u001b[0m                            Traceback (most recent call last)",
      "Cell \u001b[1;32mIn[12], line 3\u001b[0m\n\u001b[0;32m      1\u001b[0m \u001b[39mfrom\u001b[39;00m \u001b[39mword2number\u001b[39;00m \u001b[39mimport\u001b[39;00m w2n\n\u001b[1;32m----> 3\u001b[0m w2n\u001b[39m.\u001b[39;49mordinal_to_num(\u001b[39m\"\u001b[39m\u001b[39m1st\u001b[39m\u001b[39m\"\u001b[39m)\n",
      "\u001b[1;31mAttributeError\u001b[0m: module 'word2number.w2n' has no attribute 'ordinal_to_num'"
     ]
    }
   ],
   "source": [
    "from word2number import w2n\n",
    "\n",
    "w2n.ordinal_to_num(\"1st\")"
   ]
  },
  {
   "cell_type": "code",
   "execution_count": null,
   "metadata": {},
   "outputs": [],
   "source": [
    "test_dir = Path(r\"D:\\TestSave\\DifNum\\01 - Novel Tank Test\")\n",
    "\n",
    "ORDINALS = ['1st', '2nd', '3rd', '4th', '5th', '6th', '7th', '8th', '9th']\n",
    "treatment_num = \"A\"\n",
    "batch_num = 1\n",
    "batch_ordinal = ORDINALS[batch_num - 1]\n",
    "\n",
    "treatment_dir = test_dir.glob(f\"*{treatment_num}*({batch_ordinal} Batch)\")\n"
   ]
  }
 ],
 "metadata": {
  "kernelspec": {
   "display_name": "myenv",
   "language": "python",
   "name": "python3"
  },
  "language_info": {
   "codemirror_mode": {
    "name": "ipython",
    "version": 3
   },
   "file_extension": ".py",
   "mimetype": "text/x-python",
   "name": "python",
   "nbconvert_exporter": "python",
   "pygments_lexer": "ipython3",
   "version": "3.9.13"
  },
  "orig_nbformat": 4
 },
 "nbformat": 4,
 "nbformat_minor": 2
}
