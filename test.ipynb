{
 "cells": [
  {
   "cell_type": "markdown",
   "metadata": {},
   "source": [
    "# Rearranger"
   ]
  },
  {
   "cell_type": "code",
   "execution_count": null,
   "metadata": {},
   "outputs": [],
   "source": [
    "import pandas as pd\n",
    "import os\n",
    "import cv2\n",
    "import numpy as np\n",
    "import matplotlib.pyplot as plt\n",
    "import math\n",
    "import tkinter as tk\n",
    "from tkinter import filedialog\n",
    "from pathlib import Path\n",
    "from functools import partial, wraps"
   ]
  },
  {
   "cell_type": "code",
   "execution_count": null,
   "metadata": {},
   "outputs": [],
   "source": [
    "root = tk.Tk()\n",
    "root.withdraw()\n",
    "\n",
    "# Open dialog to choose the .txt file\n",
    "file_type = [('Text File', '*.txt')]\n",
    "default_dir = 'Input'\n",
    "file_path = filedialog.askopenfilename(filetypes=file_type, initialdir=default_dir)\n",
    "\n",
    "# Read the .txt file into a dataframe\n",
    "raw_df = pd.read_csv(file_path, sep = \"\\t\")\n",
    "\n",
    "raw_df.head()\n"
   ]
  },
  {
   "cell_type": "code",
   "execution_count": null,
   "metadata": {},
   "outputs": [],
   "source": [
    "# Remove unnecessary columns\n",
    "for col in raw_df.columns:\n",
    "    if \"unnamed\" in col.lower() or \"prob\" in col.lower():\n",
    "        raw_df.drop(col, axis=1, inplace=True)\n",
    "\n",
    "raw_df"
   ]
  },
  {
   "cell_type": "code",
   "execution_count": null,
   "metadata": {},
   "outputs": [],
   "source": [
    "# Extract the first frame of the video to get a sample image\n",
    "\n",
    "# Open dialog to choose the .mp4 file\n",
    "file_type = [('Video File', '*.mp4')]\n",
    "default_dir = 'Input'\n",
    "file_path = filedialog.askopenfilename(filetypes=file_type, initialdir=default_dir)\n",
    "video_P = Path(file_path)\n",
    "\n",
    "cap = cv2.VideoCapture(file_path)\n",
    "_, frame = cap.read()\n",
    "cap.release()\n",
    "\n",
    "# Export frame as a .png file\n",
    "image_P = video_P.parent / (video_P.stem + \".png\")\n",
    "cv2.imwrite(str(image_P), frame)\n"
   ]
  },
  {
   "cell_type": "code",
   "execution_count": null,
   "metadata": {},
   "outputs": [],
   "source": [
    "def get_tanks(im):\n",
    "    example_tanks = {}\n",
    "\n",
    "    tank_names = ['Top Left', 'Top Right', 'Bottom Left']\n",
    "\n",
    "    def tank_selector(im, tank_name):\n",
    "        while True:\n",
    "            selected_pixel = cv2.selectROI('Selecting tank at position'+str(tank_name), im)\n",
    "            \n",
    "            # print out the coordinates of top left and bottom right pixel of the ROI\n",
    "            print('Tank at position: ', tank_name)\n",
    "            print('Top left pixel: x = {}, y = {}'.format(selected_pixel[0], selected_pixel[1]))\n",
    "            print('Bottom right pixel: x = {}, y = {}'.format(selected_pixel[0] + selected_pixel[2], selected_pixel[1] + selected_pixel[3]))\n",
    "            print('Middle line: y = {}'.format(selected_pixel[1] + selected_pixel[3] / 2))\n",
    "            tank_d = math.ceil((selected_pixel[2] + selected_pixel[3]) / 2)\n",
    "            print('Diameter of the tank : ', tank_d)\n",
    "            print()\n",
    "            example_tanks[tank_name] = selected_pixel\n",
    "            cv2.destroyAllWindows()\n",
    "            break\n",
    "\n",
    "    for name in tank_names:\n",
    "        tank_selector(im, name)\n",
    "\n",
    "    return example_tanks"
   ]
  },
  {
   "cell_type": "code",
   "execution_count": null,
   "metadata": {},
   "outputs": [],
   "source": [
    "image_P = Path(r\"C:\\Code\\ChungyuanProjects\\TowerAssayAnalyzer\\Input\\Zebrafish Tower\\A - Novel Tank Test\\01 - Control (1st Batch).png\")\n"
   ]
  },
  {
   "cell_type": "code",
   "execution_count": null,
   "metadata": {},
   "outputs": [],
   "source": [
    "\n",
    "im = cv2.imread(str(image_P))\n",
    "example_wells = get_tanks(im)"
   ]
  },
  {
   "cell_type": "code",
   "execution_count": null,
   "metadata": {},
   "outputs": [],
   "source": [
    "tanks_col = 5\n",
    "tanks_row = 2\n",
    "\n",
    "# tanks number\n",
    "# 10 9 8 7 6\n",
    "# 5 4 3 2 1\n",
    "\n",
    "tanks_dict = {}\n",
    "\n",
    "TL_num = tanks_col * tanks_row\n",
    "TR_num = TL_num - tanks_col + 1\n",
    "BL_num = tanks_col\n",
    "\n",
    "tanks_dict[TL_num] = example_wells['Top Left']\n",
    "tanks_dict[TR_num] = example_wells['Top Right']\n",
    "tanks_dict[BL_num] = example_wells['Bottom Left']\n",
    "tanks_dict[1] = (tanks_dict[6][0] - (tanks_dict[10][0] - tanks_dict[5][0]), tanks_dict[6][1] - (tanks_dict[10][1] - tanks_dict[5][1]), tanks_dict[6][2]*(tanks_dict[5][2]/tanks_dict[10][2]), tanks_dict[6][3]*(tanks_dict[5][3]/tanks_dict[10][3]))\n",
    "\n",
    "def fill_row(tanks_dict, start, end, display = True):\n",
    "    x_sep = (tanks_dict[start][0] - tanks_dict[end][0])/(end - start)\n",
    "    y_sep = (tanks_dict[start][1] - tanks_dict[end][1])/(end - start)\n",
    "    w_sep = (tanks_dict[start][2] - tanks_dict[end][2])/(end - start)\n",
    "    h_sep = (tanks_dict[start][3] - tanks_dict[end][3])/(end - start)\n",
    "\n",
    "    for i in range(start+1, end):\n",
    "        tanks_dict[i] = (tanks_dict[end][0] + x_sep*(end-i), tanks_dict[end][1] + y_sep*(end-i), tanks_dict[end][2] + w_sep*(end-i), tanks_dict[end][3] + h_sep*(end-i))\n",
    "    \n",
    "    if display:\n",
    "        for key, value in locals().items():\n",
    "            print(key + ' = ' + str(value))\n",
    "\n",
    "    return tanks_dict\n",
    "\n",
    "for row in range(0, tanks_row):\n",
    "    tanks_dict = fill_row(tanks_dict, 1 + row*tanks_col, (row+1)*tanks_col)\n",
    "    # row = 0, fill(tanks_dict, 1 + 0*5,  (0+1)*5)\n",
    "    # row = 1, fill(tanks_dict, 1 + 1*5,  (1+1)*5)\n",
    "\n",
    "# tanks_dict = fill_row(tanks_dict, 1, 5)\n",
    "# tanks_dict = fill_row(tanks_dict, 6, 10)\n",
    "\n",
    "# round up all the values in tanks_dict to integers\n",
    "for key in tanks_dict:\n",
    "    tanks_dict[key] = tuple([int(round(i)) for i in tanks_dict[key]])\n",
    "\n",
    "tanks_dict\n"
   ]
  },
  {
   "cell_type": "code",
   "execution_count": null,
   "metadata": {},
   "outputs": [],
   "source": [
    "im = cv2.imread(str(image_P))\n",
    "\n",
    "# Display predicted tanks\n",
    "def display_tanks():\n",
    "    for i in range(1, 11):\n",
    "        x, y, w, h = tanks_dict[i]\n",
    "        cv2.rectangle(im, (x, y), (x + w, y + h), (0, 255, 0), 2)\n",
    "        cv2.putText(im, str(i), (x, y), cv2.FONT_HERSHEY_SIMPLEX, 1, (0, 255, 0), 2, cv2.LINE_AA)\n",
    "    cv2.imshow('Tanks', im)\n",
    "    cv2.waitKey(0)\n",
    "    cv2.destroyAllWindows()\n",
    "\n",
    "display_tanks()\n"
   ]
  },
  {
   "cell_type": "code",
   "execution_count": null,
   "metadata": {},
   "outputs": [],
   "source": [
    "import random\n",
    "from Libs.misc import display_coords\n",
    "\n",
    "def coord_generator(box, points = 1000):\n",
    "    x, y, w, h = box\n",
    "    coords = []\n",
    "    for i in range(points):\n",
    "        x_coord = random.randint(x, x+w)\n",
    "        y_coord = random.randint(y, y+h)\n",
    "        coords.append((x_coord, y_coord))\n",
    "    return coords\n",
    "\n",
    "def mix_up(input_dict, mix_ratio = 0.3):\n",
    "    # input_dict has 10 keys \n",
    "    # keys are 1, 2, 3, 4, 5, 6, 7, 8, 9, 10\n",
    "    # values are coordinates inside the tanks\n",
    "    # mix_ratio is the ratio of mixing up the coordinates\n",
    "    # mix_ratio = 0.3 means 30% of the coordinates will be mixed up\n",
    "\n",
    "    for i in range(1, len(input_dict)+1):\n",
    "        if i == 1:\n",
    "            continue\n",
    "        else:\n",
    "            for j in range(1, len(input_dict[i])+1):\n",
    "                if random.random() < mix_ratio:\n",
    "                    # swap the coordinates\n",
    "                    input_dict[i][j-1], input_dict[i-1][j-1] = input_dict[i-1][j-1], input_dict[i][j-1]\n",
    "    return input_dict\n",
    "                    \n",
    "def mix_up_df(input_df, mix_ratio = 0.3):\n",
    "\n",
    "    for i in range(1, len(input_df.columns)+1, 2):\n",
    "        if i == 1:\n",
    "            continue\n",
    "        else:\n",
    "            for j in range(1, len(input_df)+1):\n",
    "                if random.random() < mix_ratio:\n",
    "                    # swap the coordinates\n",
    "                    input_df.iloc[j-1, i-1], input_df.iloc[j-1, i-2] = input_df.iloc[j-1, i-2], input_df.iloc[j-1, i-1]\n",
    "\n",
    "    return input_df\n",
    "\n",
    "test_dict = {}\n",
    "for i in range(1, 11):\n",
    "    test_dict[i] = coord_generator(tanks_dict[i])\n",
    "\n",
    "\n",
    "columns = []\n",
    "for i in range (1, 11):\n",
    "    columns.append('x' + str(i))\n",
    "    columns.append('y' + str(i))\n",
    "\n",
    "test_df = pd.DataFrame(columns = columns)\n",
    "for i in range(1, 11):\n",
    "    test_df['x' + str(i)] = [x for x, y in test_dict[i]]\n",
    "    test_df['y' + str(i)] = [y for x, y in test_dict[i]]\n",
    "\n",
    "test_df"
   ]
  },
  {
   "cell_type": "code",
   "execution_count": null,
   "metadata": {},
   "outputs": [],
   "source": [
    "display_coords(test_df, im)"
   ]
  },
  {
   "cell_type": "code",
   "execution_count": null,
   "metadata": {},
   "outputs": [],
   "source": [
    "mixed_dict = mix_up(test_dict, mix_ratio = 0.3)\n",
    "mixed_dict\n",
    "\n",
    "# turn test_dict into dataframe, with 20 columns\n",
    "# columns = ['x1', 'y1', 'x2', 'y2', ..., 'x10', 'y10']\n",
    "# rows = 1000\n",
    "\n",
    "import pandas as pd\n",
    "\n",
    "\n",
    "\n",
    "mixed_df = pd.DataFrame(columns = columns)\n",
    "for i in range(1, 11):\n",
    "    mixed_df['x' + str(i)] = [x for x, y in mixed_dict[i]]\n",
    "    mixed_df['y' + str(i)] = [y for x, y in mixed_dict[i]]\n",
    "\n",
    "mixed_df"
   ]
  },
  {
   "cell_type": "code",
   "execution_count": null,
   "metadata": {},
   "outputs": [],
   "source": [
    "display_coords(mixed_df, im)"
   ]
  },
  {
   "cell_type": "code",
   "execution_count": null,
   "metadata": {},
   "outputs": [],
   "source": [
    "cv2.imshow('Tanks', im)\n",
    "cv2.waitKey(0)\n",
    "cv2.destroyAllWindows()"
   ]
  },
  {
   "cell_type": "code",
   "execution_count": null,
   "metadata": {},
   "outputs": [],
   "source": [
    "def in_box(input_x, input_y, box):\n",
    "    x, y, w, h = box\n",
    "    return x <= input_x <= x + w and y <= input_y <= y + h\n",
    "    \n",
    "def in_which_tank(x, y):\n",
    "    for tank_num, tank_box in tanks_dict.items():\n",
    "        if in_box(x, y, tank_box):\n",
    "            return tank_num\n",
    "    return -1\n",
    "\n",
    "true_df = pd.DataFrame(columns=test_df.columns)\n",
    "for idx, row in test_df.iterrows():\n",
    "    for j in range(1, 11):\n",
    "        x = row['x' + str(j)]\n",
    "        y = row['y' + str(j)]\n",
    "        \n",
    "        tank = in_which_tank(x, y)\n",
    "\n",
    "        if tank != -1:\n",
    "            true_df.loc[idx, 'x' + str(j)] = x\n",
    "            true_df.loc[idx, 'y' + str(j)] = y     \n",
    "\n",
    "true_df"
   ]
  },
  {
   "cell_type": "code",
   "execution_count": null,
   "metadata": {},
   "outputs": [],
   "source": [
    "display_coords(true_df, im)"
   ]
  },
  {
   "cell_type": "code",
   "execution_count": null,
   "metadata": {},
   "outputs": [],
   "source": [
    "from Libs.misc import load_threshold\n",
    "\n",
    "threshold_path = 'Bin/thresholds.json'\n",
    "\n",
    "speed1, speed2 = load_threshold(threshold_path, 'SPEED_1', 'SPEED_2')\n",
    "\n",
    "speed1, speed2"
   ]
  },
  {
   "cell_type": "code",
   "execution_count": null,
   "metadata": {},
   "outputs": [],
   "source": [
    "from Libs.misc import get_file_path, load_raw_df, clean_df\n",
    "\n",
    "file_type = [('Text File', '*.txt')]\n",
    "default_dir = 'Input'\n",
    "txt_path = get_file_path(file_type, default_dir)\n",
    "\n",
    "raw_df, tanks_list = load_raw_df(txt_path)\n",
    "\n",
    "raw_df, _ = clean_df(raw_df, fill = True)\n",
    "\n",
    "raw_df.head()\n"
   ]
  },
  {
   "cell_type": "code",
   "execution_count": null,
   "metadata": {},
   "outputs": [],
   "source": [
    "# export to a csv file\n",
    "raw_df.to_csv('Output/raw_df_withgap.csv', index = False)"
   ]
  },
  {
   "cell_type": "code",
   "execution_count": null,
   "metadata": {},
   "outputs": [],
   "source": [
    "from Libs.misc import display_coords, get_image\n",
    "\n",
    "im, _ = get_image(source = 'image')\n",
    "display_coords(raw_df, im, window_name = \"Fish 3\", tanks_list = tanks_list)\n"
   ]
  },
  {
   "cell_type": "code",
   "execution_count": null,
   "metadata": {},
   "outputs": [],
   "source": [
    "from Libs.analyzer import NovelTankTest\n",
    "\n",
    "nvtt1 = NovelTankTest(raw_df)\n",
    "\n",
    "summary_dict = nvtt1.basiccal()\n",
    "\n",
    "summary_dict"
   ]
  },
  {
   "cell_type": "code",
   "execution_count": null,
   "metadata": {},
   "outputs": [],
   "source": [
    "int(15.3)"
   ]
  },
  {
   "cell_type": "code",
   "execution_count": null,
   "metadata": {},
   "outputs": [],
   "source": []
  },
  {
   "cell_type": "code",
   "execution_count": null,
   "metadata": {},
   "outputs": [],
   "source": [
    "from Libs.misc import *\n",
    "\n",
    "final_df, im, tanks_list = draw_prep()"
   ]
  },
  {
   "cell_type": "code",
   "execution_count": null,
   "metadata": {},
   "outputs": [],
   "source": [
    "draw_trajectories(final_df, im, tanks_list, until = 3000)"
   ]
  },
  {
   "cell_type": "code",
   "execution_count": null,
   "metadata": {},
   "outputs": [],
   "source": [
    "from Libs.misc import *\n",
    "\n",
    "final_df_1, im_1, tanks_list_1 = draw_prep(mode = 'single')"
   ]
  },
  {
   "cell_type": "code",
   "execution_count": null,
   "metadata": {},
   "outputs": [],
   "source": [
    "import time\n",
    "import cv2\n",
    "\n",
    "time_range = [200, 250]\n",
    "\n",
    "time = time_range[0]\n",
    "while True:\n",
    "    print('Time frame: ', time)\n",
    "    draw_trajectories(final_df_1, im_1, tanks_list_1, until = time, wait = 5)\n",
    "    time += 1\n",
    "    cv2.waitKey(1)\n",
    "    # If \"spacebar\" is pressed, pause the video\n",
    "    if cv2.waitKey(1) & 0xFF == ord(' '):\n",
    "        cv2.waitKey(0)\n",
    "    if time == time_range[1] or cv2.waitKey(1) & 0xFF == ord('q'):\n",
    "        break\n",
    "\n",
    "cv2.destroyAllWindows()\n",
    "for time in range(200, 250):\n",
    "    draw_trajectories(final_df_1, im_1, tanks_list_1, until = time, wait = 5)\n",
    "    # if a key is pressed, pause the video\n",
    "cv2.waitKey(0)\n",
    "cv2.destroyAllWindows()\n",
    "\n",
    "# draw_trajectories(final_df_1, im_1, tanks_list_1, until = 230)"
   ]
  },
  {
   "cell_type": "code",
   "execution_count": null,
   "metadata": {},
   "outputs": [],
   "source": [
    "import numpy as np\n",
    "import pandas as pd\n",
    "\n",
    "# create an example dataframe with column X Y\n",
    "# in X there are some Nan values, along with int values\n",
    "# in Y there are some Nan values, along with int values\n",
    "\n",
    "df = pd.DataFrame({'X': [1, 2, 3, np.nan, 5, np.nan, 7, 8, 9, 10],\n",
    "                     'Y': [1, 2, 3, 4, 5, 6, 7, 8, 9, np.nan]})\n",
    "\n",
    "# find nan in X\n",
    "nan_coords = np.where(df['X'].isnull())[0]\n",
    "len(nan_coords)"
   ]
  },
  {
   "cell_type": "code",
   "execution_count": null,
   "metadata": {},
   "outputs": [],
   "source": [
    "my_array = [1, 2, 3, 4, 7, 8, 9, 15, 16, 17]\n",
    "\n",
    "# turn it into numpy array\n",
    "my_array = np.array(my_array)\n",
    "\n",
    "# split my_array into groups of continous numbers, sep = 1\n",
    "# output = [[1, 2, 3, 4], [7, 8, 9], [15, 16, 17]]\n",
    "\n",
    "def split_array(my_array, sep = 1):\n",
    "    # get the difference between each number\n",
    "    diff = np.diff(my_array)\n",
    "    # get the index of the difference that is larger than sep\n",
    "    split_index = np.where(diff > sep)[0]\n",
    "    # split the array into groups\n",
    "    split_array = np.split(my_array, split_index + 1)\n",
    "    return split_array\n",
    "\n",
    "split_array(my_array)"
   ]
  },
  {
   "cell_type": "code",
   "execution_count": null,
   "metadata": {},
   "outputs": [],
   "source": [
    "import torch\n",
    "\n",
    "# test cuda\n",
    "torch.cuda.is_available()\n"
   ]
  },
  {
   "cell_type": "code",
   "execution_count": 1,
   "metadata": {},
   "outputs": [],
   "source": [
    "from Libs.analyzer import *\n",
    "import pandas as pd\n",
    "\n",
    "total_csv_path = r'D:\\Code\\TowerAssayAnalyzer\\Output\\arranged_C - Mirror Biting Test - full.csv'\n",
    "\n",
    "total_df = pd.read_csv(total_csv_path)\n",
    "\n",
    "# get the first tank\n",
    "first_tank_df = total_df[['X1', 'Y1']].copy()\n",
    "\n",
    "NTT_Tank1 = NovelTankTest(first_tank_df)"
   ]
  },
  {
   "cell_type": "code",
   "execution_count": 4,
   "metadata": {},
   "outputs": [
    {
     "data": {
      "text/plain": [
       "['avg', 'list', 'total', 'unit']"
      ]
     },
     "execution_count": 4,
     "metadata": {},
     "output_type": "execute_result"
    }
   ],
   "source": [
    "NTT_Tank1.distance.variables(magic = False)"
   ]
  },
  {
   "cell_type": "code",
   "execution_count": null,
   "metadata": {},
   "outputs": [],
   "source": []
  }
 ],
 "metadata": {
  "kernelspec": {
   "display_name": "myenv",
   "language": "python",
   "name": "python3"
  },
  "language_info": {
   "codemirror_mode": {
    "name": "ipython",
    "version": 3
   },
   "file_extension": ".py",
   "mimetype": "text/x-python",
   "name": "python",
   "nbconvert_exporter": "python",
   "pygments_lexer": "ipython3",
   "version": "3.9.13"
  },
  "orig_nbformat": 4
 },
 "nbformat": 4,
 "nbformat_minor": 2
}
